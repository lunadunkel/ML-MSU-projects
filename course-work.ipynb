{
  "cells": [
    {
      "cell_type": "markdown",
      "metadata": {
        "id": "tcB0BhfUqKcL"
      },
      "source": [
        "## Предобработка"
      ]
    },
    {
      "cell_type": "markdown",
      "metadata": {
        "id": "Xry5PnB1qGbu"
      },
      "source": [
        "Для нормального распознавания по предложениям я решила привести все сразу в относительно унифицированный вид: так как тексты новостные, там присутствуют заголовки без точек (с двумя переносами строк) – их я привела к виду предложений с точкой. То есть покрытие все-таки будет меньше, чем 93%, так как sent_tokenize нлтк и sentencizer спейси эти случаи с заголовками считал одним предложением (upd.: 92 в пересчете). Кажется все-таки логичным их считать отдельными предложениями скорее. Дальше надо избавиться от всех конечных источников с ссылками, так как они будут только захламлять и мешать. Дальше обычные '\\n' были заменены пока что на один пробел, и этот пробел учитывается в предложениях, иначе чаровая индексация полетит; как сделать это более экономно я понимаю (очевидно все на символ назад смещать каждый раз), но я боюсь, что полетит индексация, а с ней итак очень много возиться приходится."
      ]
    },
    {
      "cell_type": "code",
      "execution_count": null,
      "metadata": {
        "colab": {
          "base_uri": "https://localhost:8080/"
        },
        "id": "rsbkF80wIV05",
        "outputId": "b7405378-1b71-4173-824d-8f0473dabf28"
      },
      "outputs": [],
      "source": [
        "!curl -L -o train  \"drive.google.com/uc?export=download&id=14EmZaMcz2VY2AgzakD1u4N78EleCFINL&confirm=yes\""
      ]
    },
    {
      "cell_type": "code",
      "execution_count": null,
      "metadata": {
        "colab": {
          "base_uri": "https://localhost:8080/"
        },
        "collapsed": true,
        "id": "tIvGWNjXodqL",
        "outputId": "551d17e1-d0c6-4c86-ee63-c3d6a68d91af"
      },
      "outputs": [],
      "source": [
        "!python -m spacy download ru_core_news_sm\n",
        "import spacy\n",
        "\n",
        "tagger = spacy.load(\"ru_core_news_sm\")"
      ]
    },
    {
      "cell_type": "code",
      "execution_count": null,
      "metadata": {
        "id": "iiwPNtrWLnic"
      },
      "outputs": [],
      "source": [
        "import json\n",
        "import os\n",
        "import re\n",
        "import numpy as np\n",
        "import pandas as pd\n",
        "from collections import defaultdict\n",
        "from zipfile import ZipFile\n",
        "from pathlib import Path\n",
        "from google.colab import files\n",
        "# from nltk.tokenize import sent_tokenize"
      ]
    },
    {
      "cell_type": "code",
      "execution_count": null,
      "metadata": {
        "id": "lxQkCB-DLqHC"
      },
      "outputs": [],
      "source": [
        "with ZipFile(\"/content/train\", 'r') as file:\n",
        "  file.extractall(path=\"/content\")\n",
        "file.close()"
      ]
    },
    {
      "cell_type": "code",
      "execution_count": null,
      "metadata": {
        "id": "5lbmvgatDPG3"
      },
      "outputs": [],
      "source": [
        "# ни sentencizer у spacy, ни sent_tokenize нлтк мне не нравится, потому будут мои убогие регулярки для чистки текста\n",
        "bos_pattern = re.compile('(?<!\\.)\\n\\n')\n",
        "# new_sent_pattern = re.compile('.*[\\.\\!\\?] ')\n",
        "def clean_data(text):\n",
        "    text = re.sub(bos_pattern, '. ', text)\n",
        "    text = re.sub('\\n*Источник: .*\\n*$', '', text)\n",
        "    text = re.sub('\\n', ' ', text)\n",
        "    return re.split('(?<=[^\\s][.!\\?])(?=\\s)', text)"
      ]
    },
    {
      "cell_type": "code",
      "execution_count": null,
      "metadata": {
        "id": "9_TgLTY7DJoU"
      },
      "outputs": [],
      "source": [
        "data = []\n",
        "spans = []\n",
        "\n",
        "dir = '/content/new_data'\n",
        "\n",
        "for pos, filename in enumerate(os.listdir(dir)):\n",
        "    if filename.endswith('.json'):\n",
        "        f = json.load(open(dir+'/'+filename))\n",
        "        data.append(f['Text'])\n",
        "        spans.append(f['Spans'])\n",
        "\n",
        "df = pd.DataFrame(data=[data, spans], index=['Text', 'Span']).T\n",
        "dropped_df = df[df['Span'].map(lambda x: bool(x))]"
      ]
    },
    {
      "cell_type": "markdown",
      "metadata": {
        "id": "SDpyfbGlSZ2n"
      },
      "source": [
        "Проблема, которую я обнаружила, но не смогла придумать, как починить: со всякими \"кв. м\" деление на новые предложения; нлтк и спейси тоже не спасают от этого, но у них еще и пробелы, необходимые для чаровой разметки, убираются, поэтому я оставила свой код."
      ]
    },
    {
      "cell_type": "code",
      "execution_count": null,
      "metadata": {
        "id": "K6g7QjWww6lQ"
      },
      "outputs": [],
      "source": [
        "overall_spans = 0\n",
        "ill_span_dist_2 = 0\n",
        "span_dist_1 = 0\n",
        "span_dist_2 = 0\n",
        "ill_texts = defaultdict(list)\n",
        "ill_distances = defaultdict(list)\n",
        "# idx_to_dist_2 = defaultdict(dict)\n",
        "dist_to_idx_2 = defaultdict(dict)\n",
        "all_dists_2 = set()\n",
        "\n",
        "for (idx, text, spans) in dropped_df.itertuples():\n",
        "    new_text = clean_data(text)\n",
        "    dropped_df.loc[idx]['Text'] = new_text\n",
        "    for pair in spans:\n",
        "      overall_spans += 1\n",
        "      fragment = text[pair[0][0]:pair[1][1]]\n",
        "\n",
        "      distance = len(clean_data(fragment))\n",
        "      all_dists_2.add(distance)\n",
        "      dist_to_idx_2[distance][idx] = pair\n",
        "      # idx_to_dist_2[idx] = distance\n",
        "\n",
        "      if distance > 2:\n",
        "        ill_span_dist_2 += 1\n",
        "        ill_texts[idx].append(pair)\n",
        "        ill_distances[idx].append(distance)\n",
        "\n",
        "      elif distance == 1:\n",
        "        span_dist_1 += 1\n",
        "\n",
        "      elif distance == 2:\n",
        "        span_dist_2 += 1\n",
        "\n",
        "      else:\n",
        "        print('?')"
      ]
    },
    {
      "cell_type": "code",
      "execution_count": null,
      "metadata": {
        "colab": {
          "base_uri": "https://localhost:8080/"
        },
        "id": "WzG99jI-Udm3",
        "outputId": "f46227e5-6c99-4c8c-c522-a1dd8e25f9cf"
      },
      "outputs": [],
      "source": [
        "print(f'Дистанция одно предложение: {span_dist_1}')\n",
        "print(f'Дистанция два предложения: {span_dist_2}')\n",
        "print(f'Всего предложений: {overall_spans}')\n",
        "print((span_dist_1+span_dist_2)/overall_spans)"
      ]
    },
    {
      "cell_type": "code",
      "execution_count": null,
      "metadata": {
        "id": "0vN1quP5ZbvU"
      },
      "outputs": [],
      "source": [
        "dropped_df.to_csv('df_csv')"
      ]
    },
    {
      "cell_type": "code",
      "execution_count": null,
      "metadata": {
        "id": "n_kF7gTaDUpR"
      },
      "outputs": [],
      "source": [
        "def morph_analysis(text, corr_feats, positions):\n",
        "    true_cand = text[positions[0]:positions[1]]\n",
        "    doc = tagger(text)\n",
        "    # print(doc, len(doc))\n",
        "    candidates = []\n",
        "    true_index = -1\n",
        "    cand_added = False\n",
        "    context = None\n",
        "    for pos, word in enumerate(doc):\n",
        "        if str(word) == '-':\n",
        "            continue\n",
        "\n",
        "        # print(word, str(word) != '-')\n",
        "        if true_cand.find(str(word)) != -1:\n",
        "            if cand_added:\n",
        "                continue\n",
        "            true_index = len(candidates)\n",
        "            candidates.append(positions)\n",
        "            cand_added = True\n",
        "            # print(cand_added)\n",
        "            continue\n",
        "\n",
        "        if word.tag_ == 'NOUN' and str(word) != '-':\n",
        "            # print(word)\n",
        "            # print()\n",
        "            if ((corr_feats['Gender'] is None or corr_feats['Gender'] == word.morph.get('Gender'))\n",
        "            and (corr_feats['Number'] is None or corr_feats['Number'] == word.morph.get('Number'))):\n",
        "\n",
        "\n",
        "              # print(doc[:word.i], len(str(doc[:word.i])), len(str(doc[:word.i+1])))\n",
        "              begin = word.idx\n",
        "              end = word.idx+len(word)\n",
        "              if begin == end:\n",
        "                  print('Warning: span is empty')\n",
        "              candidates.append([begin, end])\n",
        "        context = word\n",
        "              # print(\"CAND:\", word, f'[{begin}, {end}]')\n",
        "    if not cand_added:\n",
        "        true_index = len(candidates)\n",
        "        candidates.append(positions)\n",
        "\n",
        "    return candidates, true_index"
      ]
    },
    {
      "cell_type": "markdown",
      "metadata": {
        "id": "0XZFA0RDsCqA"
      },
      "source": [
        "В функцию подается i-ый текст, разбитый на предложения, и список спенов для i-ого текста. В функции итерация по предложениям (разбиение на два) и итерация по спенам через очередь. Фиксируется длина текста во время итерации (text_len), а также каждый раз при разбиении на два предложения подсчитывается длина конкретного кусочка (curr_len).\n",
        "\n",
        "\n",
        "\n"
      ]
    },
    {
      "cell_type": "code",
      "execution_count": null,
      "metadata": {
        "id": "egC0FaeKpMzA"
      },
      "outputs": [],
      "source": [
        "import heapq as hq"
      ]
    },
    {
      "cell_type": "markdown",
      "metadata": {
        "id": "0-BGPVaIk03L"
      },
      "source": [
        "Еще одна проблема, которую я не учла при первичной своей предобработке: нужно было сделать булевый флажок катафора; соответственно сейчас необходимо, чтобы, если вдруг вторым линейным спеном оказывается ИГ, окно было расширено (не только в левую сторону антецедент, но и в правую). То есть для катафоры я просто запускаю поиск подходящих ИГ от всего текста."
      ]
    },
    {
      "cell_type": "code",
      "execution_count": null,
      "metadata": {
        "id": "kZBoT30qzyrD"
      },
      "outputs": [],
      "source": [
        "def create_new_dict(sentencized_text, span_list, text_pos, idx=0):\n",
        "    dictionary = {}\n",
        "    hq.heapify(span_list)\n",
        "    max_length = len(sentencized_text)\n",
        "    text_len = 0\n",
        "\n",
        "    for pos in range(len(sentencized_text)):\n",
        "        # print(pos, text_len)\n",
        "        if pos + 1 == max_length:\n",
        "            break\n",
        "\n",
        "        new_text = ''.join(str(x) for x in [sentencized_text[pos], sentencized_text[pos+1]])\n",
        "        first_sent_len = len(sentencized_text[pos])\n",
        "        # print(new_text)\n",
        "        curr_len = len(new_text)\n",
        "        check = []\n",
        "        while span_list:\n",
        "            cataphora = False\n",
        "            f = hq.heappop(span_list) # смотрим первый спен\n",
        "\n",
        "            if f in ill_texts[text_pos]:\n",
        "                continue\n",
        "\n",
        "            if text_len+curr_len < f[1][1] or f[0][0] < text_len:\n",
        "                hq.heappush(span_list, f)\n",
        "                # если индекс конца второго элемента больше\n",
        "                # то брейкаемся\n",
        "                break\n",
        "\n",
        "            corr_feats = None\n",
        "            new_pair = f\n",
        "\n",
        "\n",
        "            if new_pair[0][0] > text_len + first_sent_len and pos+1 != max_length-1:\n",
        "                # если анафорическая пара в рамках одного (второго по счету) предложении\n",
        "                # то надо включить его в оба разбиения (и там, где оно второе, и там где первое)\n",
        "                check.append(new_pair)\n",
        "\n",
        "            beg_ind_1, end_ind_1 = new_pair[0][0]-text_len, new_pair[0][1]-text_len\n",
        "            beg_ind_2, end_ind_2 = new_pair[1][0]-text_len, new_pair[1][1]-text_len\n",
        "\n",
        "            word_1 = new_text[beg_ind_1:end_ind_1]\n",
        "            word_2 = new_text[beg_ind_2:end_ind_2]\n",
        "\n",
        "            morph_an = tagger(word_2)\n",
        "\n",
        "\n",
        "            if len(morph_an) == 1 and (morph_an[0].tag_ in ['PRON', 'DET', 'SCONJ']):\n",
        "                  # анафорические местоимения тут, кажется, должны быть все одноразмерными\n",
        "                  # если нет, то должен сработать последний else\n",
        "                  corr_feats = {'Gender': morph_an[0].morph.get('Gender') or None,\n",
        "                                  'Number': morph_an[0].morph.get('Number') or None,\n",
        "                                  'Person': morph_an[0].morph.get('Person') or None}\n",
        "                  true_cand_span = [beg_ind_1, end_ind_1]\n",
        "                  true_an_span = [beg_ind_2, end_ind_2]\n",
        "            else:\n",
        "                morph_an = tagger(word_1)\n",
        "                if len(morph_an) == 1 and (morph_an[0].tag_ in ['PRON', 'DET', 'SCONJ']):\n",
        "                    # с катафорой то же самое\n",
        "                    cataphora = True\n",
        "                    corr_feats = {'Gender': morph_an[0].morph.get('Gender') or None,\n",
        "                                  'Number': morph_an[0].morph.get('Number') or None,\n",
        "                                  'Person': morph_an[0].morph.get('Person') or None}\n",
        "                    true_cand_span = [beg_ind_2, end_ind_2]\n",
        "                    true_an_span = [beg_ind_1, end_ind_1]\n",
        "                else:\n",
        "\n",
        "                    print(f\"Warning: anaphora's length > 1: text pos = {text_pos}, word = {morph_an}, span = {beg_ind_2, end_ind_2}\")\n",
        "                    print(f'Second word = {word_2}')\n",
        "                    print(len(tagger(word_2)), tagger(word_2)[0].tag_)\n",
        "                    true_cand_span = None\n",
        "                    true_an_span = None\n",
        "\n",
        "            # для анафорического местоимения записывается словарь его морфологических характеристик\n",
        "            # for word in morph_an:\n",
        "\n",
        "            #     if word.tag_ in ['PRON', 'DET']:\n",
        "            #         corr_feats = {'Gender': word.morph.get('Gender') or None,\n",
        "            #                       'Number': word.morph.get('Number') or None,\n",
        "            #                       'Person': word.morph.get('Person') or None}\n",
        "            #     else:\n",
        "            #         print(beg_ind_2, end_ind_2, word)\n",
        "\n",
        "            candidates = None\n",
        "            if corr_feats is not None:\n",
        "                # получения словаря всех возможных антецедентов с их спенами и индекс правильного антецедента\n",
        "                if cataphora:\n",
        "                    candidates, true_index = morph_analysis(new_text, corr_feats, true_cand_span)\n",
        "                else:\n",
        "                    candidates, true_index = morph_analysis(new_text[:end_ind_2], corr_feats, true_cand_span)\n",
        "            else:\n",
        "                  print(f'Warning: no candidates, text pos = {text_pos}')\n",
        "\n",
        "            # print('Записываю в словарь')\n",
        "            if candidates is not None:\n",
        "                dictionary[idx] = {'TwoSents': new_text,\n",
        "                                  'AnaphPos': true_an_span,\n",
        "                                  'AllAnts': candidates,\n",
        "                                  'IndListAnt': true_index}\n",
        "            else:\n",
        "                print(f'Warning: no candidates, text pos = {text_pos}')\n",
        "\n",
        "            idx += 1\n",
        "\n",
        "        for s in check:\n",
        "              # print('pushing it back')\n",
        "              # print(pos, max_length)\n",
        "              hq.heappush(span_list, s)\n",
        "\n",
        "        check = []\n",
        "\n",
        "        text_len += len(sentencized_text[pos])\n",
        "\n",
        "    if span_list:\n",
        "        print(text_pos, 'Warning: deque is not empty', span_list)\n",
        "\n",
        "    return dictionary"
      ]
    },
    {
      "cell_type": "code",
      "execution_count": null,
      "metadata": {
        "id": "05MUVlOrajym"
      },
      "outputs": [],
      "source": [
        "def restore_data(name='df_csv', labels=['Text', 'Span']):\n",
        "    new_df = pd.read_csv(name, index_col=0)\n",
        "    # new_df.drop(index=['Unnamed: 0'])\n",
        "    for l in labels:\n",
        "        new_df[l] = new_df[l].apply(lambda x: eval(x))\n",
        "    # new_df['Span'] = new_df['Span'].apply(lambda x: eval(x))\n",
        "    return new_df"
      ]
    },
    {
      "cell_type": "code",
      "execution_count": null,
      "metadata": {
        "id": "8ou0EVIQe6Wa"
      },
      "outputs": [],
      "source": [
        "new_df = restore_data('df_csv')"
      ]
    },
    {
      "cell_type": "code",
      "execution_count": null,
      "metadata": {
        "colab": {
          "base_uri": "https://localhost:8080/",
          "height": 424
        },
        "id": "X83JVTI0LHTz",
        "outputId": "dcde4161-4246-4da8-9f4d-0f33563d47c3"
      },
      "outputs": [],
      "source": [
        "new_df"
      ]
    },
    {
      "cell_type": "code",
      "execution_count": null,
      "metadata": {
        "colab": {
          "base_uri": "https://localhost:8080/"
        },
        "collapsed": true,
        "id": "QXRd8h-psWs-",
        "outputId": "66257510-e45f-4b66-d79f-a643cd311838"
      },
      "outputs": [],
      "source": [
        "create_new_dict(new_df.loc[104]['Text'], new_df.loc[104]['Span'], 104)"
      ]
    },
    {
      "cell_type": "code",
      "execution_count": null,
      "metadata": {
        "collapsed": true,
        "id": "GXpXJ6KTenGI"
      },
      "outputs": [],
      "source": [
        "new_dict = create_new_dict(new_df.loc[13]['Text'], new_df.loc[13]['Span'], 13)"
      ]
    },
    {
      "cell_type": "code",
      "execution_count": null,
      "metadata": {
        "colab": {
          "base_uri": "https://localhost:8080/"
        },
        "collapsed": true,
        "id": "UVgRoH4VJhxo",
        "outputId": "8b0617ea-d531-4323-8564-8eeeb4fa66b7"
      },
      "outputs": [],
      "source": [
        "new_dict"
      ]
    },
    {
      "cell_type": "code",
      "execution_count": null,
      "metadata": {
        "id": "uGPPXTwqIX2e"
      },
      "outputs": [],
      "source": [
        "test_df = pd.DataFrame(new_dict).T"
      ]
    },
    {
      "cell_type": "code",
      "execution_count": null,
      "metadata": {
        "id": "VICnHF6fIq-8"
      },
      "outputs": [],
      "source": [
        "test_df.to_csv('test_csv')"
      ]
    },
    {
      "cell_type": "code",
      "execution_count": null,
      "metadata": {
        "id": "b5ngY7MHNI1f"
      },
      "outputs": [],
      "source": [
        "test_csv = restore_data('test_csv', labels=['AnaphPos', 'AllAnts'])"
      ]
    },
    {
      "cell_type": "code",
      "execution_count": null,
      "metadata": {
        "colab": {
          "base_uri": "https://localhost:8080/"
        },
        "id": "r_JZZWzKhUwT",
        "outputId": "f037b79a-a0ef-44d4-bd7d-7d3c41f7149b"
      },
      "outputs": [],
      "source": [
        "new_df = restore_data()\n",
        "pos = 0\n",
        "final_data = []\n",
        "for (idx, text, spans) in new_df.itertuples():\n",
        "    if pos % 500 == 0:\n",
        "        print(pos)\n",
        "    dictionary = create_new_dict(text, spans, idx)\n",
        "    final_data.append(dictionary)\n",
        "    pos+=1"
      ]
    },
    {
      "cell_type": "code",
      "execution_count": null,
      "metadata": {
        "colab": {
          "base_uri": "https://localhost:8080/",
          "height": 17
        },
        "id": "pBGVj6LiX5nM",
        "outputId": "62d02ab1-e48b-40f6-ffdd-bf73b76b3157"
      },
      "outputs": [],
      "source": [
        "# сохранение полученных предобработанных данных в json формат\n",
        "with open(\"mydata.json\", \"w\") as final:\n",
        "    json.dump(final_data, final)\n",
        "\n",
        "files.download('mydata.json')"
      ]
    },
    {
      "cell_type": "markdown",
      "metadata": {
        "id": "JjwY79MIZg5i"
      },
      "source": [
        "## Подготовка данных"
      ]
    },
    {
      "cell_type": "code",
      "execution_count": null,
      "metadata": {
        "colab": {
          "base_uri": "https://localhost:8080/"
        },
        "id": "uMDjmwwgyXJh",
        "outputId": "46d951e0-8e06-49bd-fa3f-f634ba73ed1c"
      },
      "outputs": [],
      "source": [
        "!curl -L -o data  \"drive.google.com/uc?export=download&id=1S2dzrZd-6Nv3B7zuETODx4ead8769DkJ&confirm=yes\""
      ]
    },
    {
      "cell_type": "code",
      "execution_count": null,
      "metadata": {
        "id": "iU7R9Ix6yeg4"
      },
      "outputs": [],
      "source": [
        "import json\n",
        "import torch\n",
        "from torch.utils.data.dataset import Dataset\n",
        "from google.colab import files"
      ]
    },
    {
      "cell_type": "code",
      "execution_count": null,
      "metadata": {
        "id": "nfzNw-2lyYuK"
      },
      "outputs": [],
      "source": [
        "f = json.load(open('/content/data'))"
      ]
    },
    {
      "cell_type": "code",
      "execution_count": null,
      "metadata": {
        "id": "xBuI_YZ8ydoZ"
      },
      "outputs": [],
      "source": [
        "for x in f:\n",
        "    for m in x.values():\n",
        "      for pos, span in enumerate(m['AllAnts']):\n",
        "          if span[0] == span[1]:\n",
        "              if m['TwoSents'][span[0]-1:span[1]] != '-':\n",
        "                  print(m['TwoSents'][span[0]-1:span[1]])\n",
        "                  print(m)"
      ]
    },
    {
      "cell_type": "code",
      "execution_count": null,
      "metadata": {
        "colab": {
          "base_uri": "https://localhost:8080/"
        },
        "id": "OD-z3PI1yYkT",
        "outputId": "b2650586-ddc9-47fd-af63-456be7eb8775"
      },
      "outputs": [],
      "source": [
        "print(len(f))"
      ]
    },
    {
      "cell_type": "code",
      "execution_count": null,
      "metadata": {
        "colab": {
          "base_uri": "https://localhost:8080/"
        },
        "id": "Z9EZE2rNyxcC",
        "outputId": "2722b1b1-7a22-4478-d0e4-b613a0f6bbb6"
      },
      "outputs": [],
      "source": [
        "train, dev, test = f[:2369], f[2369:2664], f[2664:]\n",
        "print(len(train), len(dev), len(test))"
      ]
    },
    {
      "cell_type": "code",
      "execution_count": null,
      "metadata": {
        "colab": {
          "base_uri": "https://localhost:8080/",
          "height": 210
        },
        "id": "jCmch_2jzQib",
        "outputId": "4a67682a-a0a6-46d3-cf30-b3ad431b5a7e"
      },
      "outputs": [],
      "source": [
        "def create_final_file(f):\n",
        "    all_data = []\n",
        "    for x in f:\n",
        "        for m in x.values():\n",
        "          idx = 0\n",
        "          while m['TwoSents'][idx] == ' ':\n",
        "              idx += 1\n",
        "\n",
        "          m['TwoSents'] = m['TwoSents'][idx:]\n",
        "          m['AnaphPos'][0] -= idx\n",
        "          m['AnaphPos'][1] -= idx\n",
        "          for pos, span in enumerate(m['AllAnts']):\n",
        "              if span[0] == span[1]:\n",
        "                  print(m)\n",
        "              check = span[::]\n",
        "              check[0] -= idx\n",
        "              check[1] -= idx\n",
        "              while check[0]-1 >= 0 and (m['TwoSents'][check[0]-1].isalpha() or m['TwoSents'][check[0]-1] == '-'):\n",
        "                print(m['TwoSents'][check[0]-1])\n",
        "                check[0] -= 1\n",
        "\n",
        "              while len(m['TwoSents']) > check[1] and (m['TwoSents'][check[1]].isalpha() or m['TwoSents'][check[1]] == '-'):\n",
        "                print(m['TwoSents'][check[1]])\n",
        "                check[1] += 1\n",
        "\n",
        "              m['AllAnts'][pos] = check\n",
        "          all_data.append(m)\n",
        "    return all_data\n",
        "\n",
        "train_data = create_final_file(train)\n",
        "dev_data = create_final_file(dev)\n",
        "test_data = create_final_file(test)\n",
        "print(len(train_data), len(dev_data), len(test_data), len(train_data)+len(dev_data)+len(test_data))"
      ]
    },
    {
      "cell_type": "code",
      "execution_count": null,
      "metadata": {
        "id": "q4bBNEv20E-Z"
      },
      "outputs": [],
      "source": [
        "def data_for_dataset(all_data):\n",
        "    final_data = []\n",
        "    for idx, elem in enumerate(all_data):\n",
        "        for pos, span in enumerate(elem['AllAnts']):\n",
        "            answer = dict()\n",
        "            answer['TwoSents'] = elem['TwoSents']\n",
        "            answer['AnaphPos'] = elem['AnaphPos']\n",
        "            answer['Ant'] = span\n",
        "            answer['IsAnt'] = int(pos == elem['IndListAnt'])\n",
        "            answer['OrigPos'] = idx\n",
        "            final_data.append(answer)\n",
        "    return final_data"
      ]
    },
    {
      "cell_type": "code",
      "execution_count": null,
      "metadata": {
        "id": "VhTBJFWutP2N"
      },
      "outputs": [],
      "source": [
        "train_d = data_for_dataset(train_data)\n",
        "dev_d = data_for_dataset(dev_data)\n",
        "test_d = data_for_dataset(test_data)\n",
        "print(len(train_d), len(dev_d), len(test_d), len(train_d)+len(dev_d)+len(test_d))"
      ]
    },
    {
      "cell_type": "code",
      "execution_count": null,
      "metadata": {
        "colab": {
          "base_uri": "https://localhost:8080/"
        },
        "id": "55xGpkMJLvVZ",
        "outputId": "f79e715d-05af-4b80-f827-fbd74507665a"
      },
      "outputs": [],
      "source": [
        "train_d[80422]"
      ]
    },
    {
      "cell_type": "code",
      "execution_count": null,
      "metadata": {
        "colab": {
          "base_uri": "https://localhost:8080/",
          "height": 17
        },
        "id": "FZDI_D_B01c9",
        "outputId": "2009b117-94db-4df5-c4e2-b341cb40e31c"
      },
      "outputs": [],
      "source": [
        "def download_data(data, filename):\n",
        "    filename = filename + \".json\"\n",
        "    with open(filename, \"w\") as file:\n",
        "        json.dump(data, file)\n",
        "    files.download(filename)\n",
        "\n",
        "download_data(train_d, 'train')\n",
        "download_data(dev_d, 'dev')\n",
        "download_data(test_d, 'test')"
      ]
    },
    {
      "cell_type": "markdown",
      "metadata": {
        "id": "SkZUWzoz4Sds"
      },
      "source": [
        "## Создание датасета"
      ]
    },
    {
      "cell_type": "code",
      "execution_count": null,
      "metadata": {
        "id": "RJ4Jwasg_hAu"
      },
      "outputs": [],
      "source": [
        "import json\n",
        "import torch\n",
        "from torch.utils.data.dataset import Dataset\n",
        "from google.colab import files\n",
        "from zipfile import ZipFile\n",
        "from pathlib import Path"
      ]
    },
    {
      "cell_type": "code",
      "execution_count": null,
      "metadata": {
        "colab": {
          "base_uri": "https://localhost:8080/"
        },
        "id": "x4-G7c3GAd-I",
        "outputId": "8928c4bb-a29a-4d3a-a79d-46e2d6675011"
      },
      "outputs": [],
      "source": [
        "!curl -L -o all_data \"drive.google.com/uc?export=download&id=1XxyWtqSZ4xHTqv9U8HLHFKA1b7cS2a0h&confirm=yes\""
      ]
    },
    {
      "cell_type": "code",
      "execution_count": null,
      "metadata": {
        "id": "WHRyu-eKAtwU"
      },
      "outputs": [],
      "source": [
        "with ZipFile(\"/content/all_data\", 'r') as file:\n",
        "  file.extractall(path=\"/content\")\n",
        "file.close()"
      ]
    },
    {
      "cell_type": "code",
      "execution_count": null,
      "metadata": {
        "id": "YqGu_JNR6JrF"
      },
      "outputs": [],
      "source": [
        "train = json.load(open('train.json'))\n",
        "dev = json.load(open('dev.json'))\n",
        "test = json.load(open('test.json'))"
      ]
    },
    {
      "cell_type": "code",
      "execution_count": null,
      "metadata": {
        "id": "jGWF0_Cm4W2g"
      },
      "outputs": [],
      "source": [
        "def convert_char_to_tokens(tokenization, char_pos, sent_idx=None):\n",
        "  i = 0\n",
        "  offset_mapping = tokenization[\"offset_mapping\"]\n",
        "  subtoken_start, subtoken_end = None, None\n",
        "  approximate = None\n",
        "  while subtoken_end is None:\n",
        "    if i == len(offset_mapping):\n",
        "        # print(sent_idx)\n",
        "        if approximate is not None:\n",
        "            subtoken_end = approximate\n",
        "        else:\n",
        "          subtoken_end = i\n",
        "\n",
        "    if subtoken_start is None and (char_pos[0] == offset_mapping[i][0] or char_pos[0] == offset_mapping[i][1] or char_pos[0] == (offset_mapping[i][0] + offset_mapping[i][1])//2):\n",
        "      subtoken_start = i\n",
        "    if subtoken_end is None and (char_pos[1] == offset_mapping[i][0] or char_pos[1] == offset_mapping[i][1] or char_pos[1] == (offset_mapping[i][0] + offset_mapping[i][1])//2):\n",
        "      subtoken_end = i+1\n",
        "    if approximate is None and abs(char_pos[1]-offset_mapping[i][0]) <= 2:\n",
        "        approximate = i+1\n",
        "    i += 1\n",
        "  return [subtoken_start, subtoken_end]"
      ]
    },
    {
      "cell_type": "code",
      "execution_count": null,
      "metadata": {
        "id": "GrBIhbWE7TGA"
      },
      "outputs": [],
      "source": [
        "class ARDataset(Dataset):\n",
        "\n",
        "    def __init__(self, data, tokenizer, label=1, device = \"cuda\"):\n",
        "        self.data = data\n",
        "        self.tokenizer = tokenizer\n",
        "        self.label = label\n",
        "        self.device = device\n",
        "\n",
        "    def __len__(self):\n",
        "        return len(self.data)\n",
        "\n",
        "    def __getitem__(self, index):\n",
        "        item = self.data[index]\n",
        "        tokenization = self.tokenizer(item['TwoSents'], return_offsets_mapping=True)\n",
        "        anaph_pos = convert_char_to_tokens(tokenization, item['AnaphPos'], sent_idx=index)\n",
        "        ant_pos = convert_char_to_tokens(tokenization, item['Ant'], sent_idx=index)\n",
        "\n",
        "        # if ant_pos[0] is None or ant_pos[1] is None:\n",
        "        #     print(ant_pos, index)\n",
        "\n",
        "        # if anaph_pos[0] is None or anaph_pos[1] is None:\n",
        "        #     print(anaph_pos, index)\n",
        "\n",
        "        answer = dict()\n",
        "        answer['input_ids'] = torch.tensor(tokenization['input_ids'], dtype=torch.int64).to(self.device)\n",
        "        answer['attention_mask'] = tokenization['attention_mask']\n",
        "        answer['target_starts'] = torch.tensor(anaph_pos[0], dtype=torch.int64).to(self.device)\n",
        "        answer['target_ends'] = torch.tensor(anaph_pos[1], dtype=torch.int64).to(self.device)\n",
        "        answer['source_starts'] = torch.tensor(ant_pos[0], dtype=torch.int64).to(self.device)\n",
        "        answer['source_ends'] = torch.tensor(ant_pos[1], dtype=torch.int64).to(self.device)\n",
        "        answer['label'] = torch.tensor(int(item['IsAnt'] == self.label), dtype=torch.int64).to(self.device)\n",
        "        answer['idx'] = torch.tensor(item['OrigPos'], dtype=torch.int64).to(self.device)\n",
        "\n",
        "        return answer"
      ]
    },
    {
      "cell_type": "code",
      "execution_count": null,
      "metadata": {
        "id": "bNd2u2C2Drro"
      },
      "outputs": [],
      "source": [
        "for line in train:\n",
        "    if not isinstance(line['Ant'][0], int) or not isinstance(line['Ant'][1], int):\n",
        "        print(line)"
      ]
    },
    {
      "cell_type": "markdown",
      "metadata": {
        "id": "7dAeyd1n7Ttt"
      },
      "source": [
        "## Модель RoBERTa"
      ]
    },
    {
      "cell_type": "code",
      "execution_count": null,
      "metadata": {
        "collapsed": true,
        "id": "_TqO_whbW_Tg"
      },
      "outputs": [],
      "source": [
        "!pip install transformers==4.28.1"
      ]
    },
    {
      "cell_type": "code",
      "execution_count": null,
      "metadata": {
        "collapsed": true,
        "id": "Ejs_VqeyVvbT"
      },
      "outputs": [],
      "source": [
        "!pip install accelerate -U"
      ]
    },
    {
      "cell_type": "code",
      "execution_count": null,
      "metadata": {
        "id": "j7HwbTIa3vhk"
      },
      "outputs": [],
      "source": [
        "import torch\n",
        "import torch.nn as nn\n",
        "from transformers import AutoTokenizer\n",
        "from transformers import AutoTokenizer, RobertaModel, RobertaPreTrainedModel\n",
        "from transformers.modeling_outputs import SequenceClassifierOutput\n",
        "from transformers import DataCollatorWithPadding, TrainingArguments, Trainer\n",
        "from transformers.optimization import AdamW\n",
        "from sklearn.metrics import accuracy_score, precision_recall_fscore_support"
      ]
    },
    {
      "cell_type": "code",
      "execution_count": null,
      "metadata": {
        "id": "gWyslxSdVtRa"
      },
      "outputs": [],
      "source": [
        "import numpy as np\n",
        "import pandas as pd\n",
        "import scipy"
      ]
    },
    {
      "cell_type": "code",
      "execution_count": null,
      "metadata": {
        "colab": {
          "base_uri": "https://localhost:8080/",
          "height": 272,
          "referenced_widgets": [
            "2a65179eaf8a467db1c3700ce92f65a2",
            "22e0ffd2fceb45d2911814e52bb4482f",
            "ab6837b2aeea4c24976e175468a4e76a",
            "f10bcfb8522b460a91fc5ba5a758810b",
            "46d7fda8a94b46fb92953f7677b0bf11",
            "07b208fc71c349a884e33bce0d4278a1",
            "a85111a5cd4f4c3d8d110e67607a33a2",
            "55baa893298e41769f1ace372900622b",
            "6b2aa0e16a48420e9756c7d1d213ebf6",
            "9ce9b23021e64cd2b6972cbc609080f6",
            "abbada92b7204426b2bcda8a7c20f6bc",
            "2e446789eab546be990dbe076b43bb6d",
            "8f0ef2c9c1214d3ba936d4127f952306",
            "4894a7f906c94d338342fba5461dbb2e",
            "b415fed33ba344e1ace8d6567026b351",
            "6ec1c2ab83904c96a94290cea7c11087",
            "f146c9249ef84a2eada0f11b840b2b02",
            "755f1d72f0524c59aded86d26a745dd4",
            "151d7932d3d84bf2869ef9be21dc25d6",
            "884a9dd673c84288a536c4756d174b39",
            "46a3d8e9b7c04f67b30e043192867270",
            "a46281b3aef54dfebb631706e1ca397c",
            "014c0836812e49f3aa2dc82c07e50321",
            "9b464895d399416381c49608e1b03da8",
            "b4cc84d822c44d71b47f2e7d1588ed73",
            "1e6badd8023f43fe968d3f6ad7592607",
            "c562e8eb5afe4d21a566ab9728fbd2bc",
            "90ecb7c33186486c96c9eb60b2743f20",
            "2b02373d5715417a8ac51d522b47e268",
            "4158f2c6a1b144f88ca92033416260d2",
            "b59bee1d488c431c8650c6d46e3a5a74",
            "33d36501677a419dae7a4143f2a93869",
            "883b3e6e5eb14fbc80a404c798c97bc5"
          ]
        },
        "id": "qfmuZi2iQXA5",
        "outputId": "347f6af1-22f0-41a7-967b-1db81695ff09"
      },
      "outputs": [],
      "source": [
        "tokenizer = AutoTokenizer.from_pretrained(\"ai-forever/ruRoberta-large\")"
      ]
    },
    {
      "cell_type": "code",
      "execution_count": null,
      "metadata": {
        "colab": {
          "base_uri": "https://localhost:8080/"
        },
        "id": "WaQsGydmIxOv",
        "outputId": "85181e5e-bd82-4c19-90fd-72c35fc91415"
      },
      "outputs": [],
      "source": [
        "tokenization = tokenizer(train[0]['TwoSents'], return_offsets_mapping=True)\n",
        "print(tokenization)"
      ]
    },
    {
      "cell_type": "code",
      "execution_count": null,
      "metadata": {
        "id": "zVbnJulxr8SW"
      },
      "outputs": [],
      "source": [
        "train_dataset = ARDataset(train, tokenizer)\n",
        "dev_dataset = ARDataset(dev, tokenizer)\n",
        "test_dataset = ARDataset(test, tokenizer)\n",
        "\n",
        "# train_dataset = ARDataset(train_d, tokenizer)\n",
        "# dev_dataset = ARDataset(dev_d, tokenizer)\n",
        "# test_dataset = ARDataset(test_d, tokenizer)"
      ]
    },
    {
      "cell_type": "code",
      "execution_count": null,
      "metadata": {
        "id": "UeFslIjxEPDI"
      },
      "outputs": [],
      "source": [
        "for line in train_dataset:\n",
        "    if line['ant_start'] == None:\n",
        "        print(line)\n",
        "    # print(line['ant_start'] == None)\n",
        "    # break"
      ]
    },
    {
      "cell_type": "code",
      "execution_count": null,
      "metadata": {
        "colab": {
          "base_uri": "https://localhost:8080/"
        },
        "id": "c3Reolfzty_o",
        "outputId": "8b1cb05e-6d19-4b38-ace7-0e45e2b1aa31"
      },
      "outputs": [],
      "source": [
        "for key, value in train_dataset[0].items():\n",
        "    print(key, value, sep=\"\\n\")"
      ]
    },
    {
      "cell_type": "code",
      "execution_count": null,
      "metadata": {
        "id": "RlbBY3wGjwx5"
      },
      "outputs": [],
      "source": [
        "class RobertaClassificationHead(nn.Module):\n",
        "\n",
        "    def __init__(self, config):\n",
        "        super().__init__()\n",
        "        self.dense = nn.Linear(4*config.hidden_size, config.hidden_size)\n",
        "        classifier_dropout = (\n",
        "            config.classifier_dropout if config.classifier_dropout is not None else config.hidden_dropout_prob\n",
        "        )\n",
        "        self.dropout = nn.Dropout(classifier_dropout)\n",
        "        self.out_proj = nn.Linear(config.hidden_size, 2)\n",
        "\n",
        "    def forward(self, first, second):\n",
        "        vectors = torch.cat([first, second, first*second, torch.abs(first-second)], dim=-1)\n",
        "        vectors = self.dense(vectors)\n",
        "        vectors = torch.tanh(vectors)\n",
        "        vectors = self.dropout(vectors)\n",
        "        vectors = self.out_proj(vectors)\n",
        "        return vectors\n",
        "\n",
        "\n",
        "class RobertaForAnaphoraClassification(RobertaPreTrainedModel):\n",
        "\n",
        "    def __init__(self, config):\n",
        "        super().__init__(config)\n",
        "        self.num_labels = 2\n",
        "        self.config = config\n",
        "        self.roberta = RobertaModel(config, add_pooling_layer=False)\n",
        "        self.classifier = RobertaClassificationHead(config)\n",
        "        self.post_init()\n",
        "\n",
        "    def forward(self, input_ids, source_starts, source_ends, target_starts, target_ends, labels=None, return_dict=False, **kwargs):\n",
        "        encoder_output = self.roberta(input_ids)['last_hidden_state']\n",
        "        source_encoder_output = torch.stack([torch.mean(elem[start:end], dim=0) for elem, start, end in zip(encoder_output, source_starts, source_ends)])\n",
        "        target_encoder_output = torch.stack([torch.mean(elem[start:end], dim=0) for elem, start, end in zip(encoder_output, target_starts, target_ends)])\n",
        "        logits = self.classifier(source_encoder_output, target_encoder_output)\n",
        "        loss = None\n",
        "        if labels is not None:\n",
        "            labels = labels.to(logits.device)\n",
        "            loss_func = nn.CrossEntropyLoss()\n",
        "            loss = loss_func(logits.view(-1, self.num_labels), labels.view(-1))\n",
        "        if not return_dict:\n",
        "            return (logits,) if loss is None else (loss, logits)\n",
        "\n",
        "        return SequenceClassifierOutput(loss=loss, logits=logits)"
      ]
    },
    {
      "cell_type": "code",
      "execution_count": null,
      "metadata": {
        "colab": {
          "base_uri": "https://localhost:8080/",
          "height": 156,
          "referenced_widgets": [
            "e1204fb5db7c410fb89adebe29070b8a",
            "fd538a99f0314147aafc75937507c9d3",
            "6efb32ab1ad442fa9fee132504885397",
            "5ea56fb9b1584183a24257ee1564cb55",
            "ff99bf4a1bdd4c28aac803d8cb717fb8",
            "d8d65b93e0bb4163b32f6c1e4305a663",
            "147cbacf5c9b420ab509d99f850fb885",
            "003373c67aa741f28062766d1c084e66",
            "d8ea48cafd404d0ca34059b6aec13ff4",
            "3001a826254047b2aaa46b9663409866",
            "72f95c5623a54f2f9a0a1923e4e0040f"
          ]
        },
        "id": "6wIER8l-keyR",
        "outputId": "3939df40-9a87-4bd9-ad34-7af598024bb4"
      },
      "outputs": [],
      "source": [
        "roberta_model = RobertaForAnaphoraClassification.from_pretrained(\"ai-forever/ruRoberta-large\", num_labels=2).to(\"cuda\")"
      ]
    },
    {
      "cell_type": "code",
      "execution_count": null,
      "metadata": {
        "id": "2a0fLI6bVJ9o"
      },
      "outputs": [],
      "source": [
        "def compute_metrics(eval_pred):\n",
        "    logits, labels = eval_pred\n",
        "    pred_labels = np.argmax(logits, axis=-1)\n",
        "    are_equal = (pred_labels == labels)\n",
        "    TP = np.sum(are_equal * labels)\n",
        "    FP = np.sum((1.0 - are_equal) * (1-labels))\n",
        "    FN = np.sum((1.0 - are_equal) * (1-pred_labels))\n",
        "    correct, total = np.sum(are_equal), len(labels)\n",
        "    return {\"Accuracy\": 100 * correct / total, \"P\": 100 * TP / max(TP+FP, 1.0), \"R\": 100 * TP / max(TP+FN, 1.0), \"F1\": 100 * TP / max(TP+0.5*FN+0.5*FP, 1.0)}"
      ]
    },
    {
      "cell_type": "code",
      "execution_count": null,
      "metadata": {
        "colab": {
          "base_uri": "https://localhost:8080/",
          "height": 141
        },
        "id": "68s8WraNVMSo",
        "outputId": "c84a5531-f262-4449-deed-e2474deb1980"
      },
      "outputs": [],
      "source": [
        "optimizer = AdamW(roberta_model.parameters(), lr=1e-5, weight_decay=0.01)"
      ]
    },
    {
      "cell_type": "code",
      "execution_count": null,
      "metadata": {
        "id": "wFNf87BnVOeb"
      },
      "outputs": [],
      "source": [
        "training_args = TrainingArguments(output_dir=\"trainer_logs\",\n",
        "                                  evaluation_strategy=\"epoch\", save_strategy='epoch', num_train_epochs=1,\n",
        "                                  load_best_model_at_end=True, disable_tqdm=False,\n",
        "                                  per_device_train_batch_size=4, warmup_ratio=0.1,\n",
        "                                  gradient_accumulation_steps=4,\n",
        "                                  metric_for_best_model=\"Accuracy\")"
      ]
    },
    {
      "cell_type": "code",
      "execution_count": null,
      "metadata": {
        "id": "e2hPm0cOQmOV"
      },
      "outputs": [],
      "source": [
        "test_train_dataset = ARDataset(train_d[:10], tokenizer)\n",
        "test_dev_dataset = ARDataset(dev_d[:10], tokenizer)"
      ]
    },
    {
      "cell_type": "code",
      "execution_count": null,
      "metadata": {
        "colab": {
          "base_uri": "https://localhost:8080/",
          "height": 193
        },
        "id": "EZ2nphbTVcls",
        "outputId": "218edb29-84e5-4fae-c0f3-85bb77ea3d86"
      },
      "outputs": [],
      "source": [
        "trainer = Trainer(\n",
        "    model=roberta_model,\n",
        "    optimizers=(optimizer,None),\n",
        "    args=training_args,\n",
        "    data_collator=DataCollatorWithPadding(tokenizer=tokenizer),\n",
        "    train_dataset=train_dataset,\n",
        "    eval_dataset=dev_dataset,\n",
        "    compute_metrics=compute_metrics)\n",
        "trainer.train()"
      ]
    },
    {
      "cell_type": "code",
      "execution_count": null,
      "metadata": {
        "id": "YyBL37lpIKYA"
      },
      "outputs": [],
      "source": [
        "training_args = TrainingArguments(output_dir=\"trainer_logs\",\n",
        "                                  evaluation_strategy=\"steps\", save_strategy='steps',\n",
        "                                  logging_strategy=\"steps\", num_train_epochs=2,\n",
        "                                  load_best_model_at_end=True, disable_tqdm=False,\n",
        "                                  per_device_train_batch_size=4, warmup_ratio=0.1,\n",
        "                                  gradient_accumulation_steps=4,\n",
        "                                  metric_for_best_model=\"Accuracy\", eval_steps=500)"
      ]
    },
    {
      "cell_type": "code",
      "execution_count": null,
      "metadata": {
        "colab": {
          "base_uri": "https://localhost:8080/",
          "height": 1000
        },
        "id": "BDoiu0bhHvQy",
        "outputId": "1d6f0d46-85d4-4854-9840-4a49f6fd1630"
      },
      "outputs": [],
      "source": [
        "trainer = Trainer(\n",
        "    model=roberta_model,\n",
        "    optimizers=(optimizer,None),\n",
        "    args=training_args,\n",
        "    data_collator=DataCollatorWithPadding(tokenizer=tokenizer),\n",
        "    train_dataset=train_dataset,\n",
        "    eval_dataset=dev_dataset,\n",
        "    compute_metrics=compute_metrics)\n",
        "trainer.train()"
      ]
    },
    {
      "cell_type": "code",
      "execution_count": null,
      "metadata": {
        "colab": {
          "base_uri": "https://localhost:8080/"
        },
        "id": "WQWkyhwai_t-",
        "outputId": "ad8a627c-5941-403d-90d1-31038a688b69"
      },
      "outputs": [],
      "source": [
        "test[1]"
      ]
    },
    {
      "cell_type": "code",
      "execution_count": null,
      "metadata": {
        "id": "ZYiJnHLyEnFQ"
      },
      "outputs": [],
      "source": [
        "from collections import defaultdict"
      ]
    },
    {
      "cell_type": "code",
      "execution_count": null,
      "metadata": {
        "id": "2qMQ270RfmdC"
      },
      "outputs": [],
      "source": [
        "def predict_with_trainer(trainer, test):\n",
        "    same_sample = None\n",
        "    count = defaultdict(int)\n",
        "    correct, total = 0, 0\n",
        "    for pos, elem in enumerate(test):\n",
        "        if pos % 2500 == 0:\n",
        "            print(pos)\n",
        "        if same_sample is None:\n",
        "            same_sample = []\n",
        "            same_sample.append(elem)\n",
        "            # это, наверно, не очень красиво\n",
        "            # но пользуюсь тем, что знаю, что одинаковые предложения идут все подряд\n",
        "            curr_idx = elem['OrigPos']\n",
        "            continue\n",
        "        if elem['OrigPos'] == curr_idx:\n",
        "            same_sample.append(elem)\n",
        "\n",
        "        else:\n",
        "          if len(same_sample) > 1:\n",
        "              test_dataset = ARDataset(same_sample, tokenizer)\n",
        "              predictions = trainer.predict(test_dataset)\n",
        "\n",
        "              pred = np.argmax(predictions[0][:,1])\n",
        "\n",
        "              if same_sample[pred]['IsAnt'] == 1:\n",
        "                  correct += 1\n",
        "              total += 1\n",
        "          count[len(same_sample)] += 1\n",
        "          same_sample = []\n",
        "          same_sample.append(elem)\n",
        "          curr_idx = elem['OrigPos']\n",
        "    if len(same_sample) > 1:\n",
        "        test_dataset = ARDataset(same_sample, tokenizer)\n",
        "        predictions = trainer.predict(test_dataset)\n",
        "\n",
        "        pred = np.argmax(predictions[0][:,1])\n",
        "\n",
        "        if same_sample[pred]['IsAnt'] == 1:\n",
        "            correct += 1\n",
        "        total += 1\n",
        "        count[len(same_sample)] += 1\n",
        "        same_sample = []\n",
        "        same_sample.append(elem)\n",
        "        curr_idx = elem['OrigPos']\n",
        "    return correct, total"
      ]
    },
    {
      "cell_type": "code",
      "execution_count": null,
      "metadata": {
        "colab": {
          "base_uri": "https://localhost:8080/",
          "height": 138
        },
        "id": "vKMJPapZ5Vqw",
        "outputId": "529244ee-e363-4331-cb48-9fc0b418d6d3"
      },
      "outputs": [],
      "source": [
        "correct, total count = predict_with_trainer(trainer, test)\n",
        "print(correct, total)\n",
        "print(count)"
      ]
    },
    {
      "cell_type": "code",
      "execution_count": null,
      "metadata": {
        "colab": {
          "base_uri": "https://localhost:8080/"
        },
        "id": "7ngYN_vOrzji",
        "outputId": "a82bb940-751b-4222-cc4e-297d4f81091d"
      },
      "outputs": [],
      "source": [
        "print(correct / total)"
      ]
    },
    {
      "cell_type": "markdown",
      "metadata": {
        "id": "QVr6-wEqsksP"
      },
      "source": [
        "## Проверка модели на собственных данных"
      ]
    },
    {
      "cell_type": "code",
      "execution_count": null,
      "metadata": {
        "colab": {
          "base_uri": "https://localhost:8080/"
        },
        "id": "mFENmUZtsfqL",
        "outputId": "30ab7557-c7f2-4d1a-c9d6-866416f87f13"
      },
      "outputs": [],
      "source": [
        "!curl -L -o new_test_data \"drive.google.com/uc?export=download&id=1sv8bhS7B35KshRuQCfGs3NL07xX8emD3&confirm=yes\""
      ]
    },
    {
      "cell_type": "code",
      "execution_count": null,
      "metadata": {
        "colab": {
          "base_uri": "https://localhost:8080/"
        },
        "id": "6ktxTvI7s1Lr",
        "outputId": "0e49ee74-9275-4b34-8eae-f5aedd54ce16"
      },
      "outputs": [],
      "source": [
        "new_test_data = json.load(open('new_test_data'))\n",
        "print(len(new_test_data))"
      ]
    },
    {
      "cell_type": "code",
      "execution_count": null,
      "metadata": {
        "id": "P2CopQTDs-SO"
      },
      "outputs": [],
      "source": [
        "check_dataset = data_for_dataset(new_test_data)"
      ]
    },
    {
      "cell_type": "code",
      "execution_count": null,
      "metadata": {
        "colab": {
          "base_uri": "https://localhost:8080/"
        },
        "id": "y-Y7p0a9teji",
        "outputId": "a8452815-071a-4bd2-b22d-c1c600874fe7"
      },
      "outputs": [],
      "source": [
        "print(len(check_dataset))"
      ]
    },
    {
      "cell_type": "code",
      "execution_count": null,
      "metadata": {
        "id": "k4bn7MlQuMYn"
      },
      "outputs": [],
      "source": [
        "for pos, elem in enumerate(check_dataset):\n",
        "  if elem['TwoSents'][elem['Ant'][0]:elem['Ant'][1]] == '':\n",
        "      print(pos)\n",
        "  if elem['TwoSents'][elem['AnaphPos'][0]:elem['AnaphPos'][1]] == '':\n",
        "      print(pos)"
      ]
    },
    {
      "cell_type": "code",
      "execution_count": null,
      "metadata": {
        "id": "6L7jjxlv5t37"
      },
      "outputs": [],
      "source": [
        "def my_predict(trainer, test):\n",
        "    data = []\n",
        "    same_sample = None\n",
        "    count = defaultdict(int)\n",
        "    correct, total = 0, 0\n",
        "    for pos, elem in enumerate(test):\n",
        "        if same_sample is None:\n",
        "            same_sample = []\n",
        "            same_sample.append(elem)\n",
        "            curr_idx = elem['OrigPos']\n",
        "            continue\n",
        "\n",
        "        if elem['OrigPos'] == curr_idx:\n",
        "            same_sample.append(elem)\n",
        "\n",
        "        else:\n",
        "          if len(same_sample) > 1:\n",
        "              test_dataset = ARDataset(same_sample, tokenizer)\n",
        "              predictions = trainer.predict(test_dataset)\n",
        "\n",
        "              pred = np.argmax(predictions[0][:,1])\n",
        "\n",
        "              if same_sample[pred]['IsAnt'] == 1:\n",
        "                  print(same_sample[0]['TwoSents'], same_sample[pred]['Ant'], predictions[0])\n",
        "                  correct += 1\n",
        "              total += 1\n",
        "          pred_span = same_sample[pred]['Ant']\n",
        "          predicted_word = same_sample[0]['TwoSents'][pred_span[0]:pred_span[1]]\n",
        "          data.append((same_sample[0]['TwoSents'], predicted_word, same_sample[0]['OrigPos']))\n",
        "          count[len(same_sample)] += 1\n",
        "          same_sample = []\n",
        "          same_sample.append(elem)\n",
        "          curr_idx = elem['OrigPos']\n",
        "    if len(same_sample) > 1:\n",
        "          test_dataset = ARDataset(same_sample, tokenizer)\n",
        "          predictions = trainer.predict(test_dataset)\n",
        "\n",
        "          pred = np.argmax(predictions[0][:,1])\n",
        "\n",
        "          if same_sample[pred]['IsAnt'] == 1:\n",
        "                  correct += 1\n",
        "          total += 1\n",
        "          pred_span = same_sample[pred]['Ant']\n",
        "          predicted_word = same_sample[0]['TwoSents'][pred_span[0]:pred_span[1]]\n",
        "          data.append((same_sample[0]['TwoSents'], predicted_word, same_sample[0]['OrigPos']))\n",
        "          count[len(same_sample)] += 1\n",
        "          same_sample = []\n",
        "          same_sample.append(elem)\n",
        "          curr_idx = elem['OrigPos']\n",
        "    return correct, total, data"
      ]
    },
    {
      "cell_type": "code",
      "execution_count": null,
      "metadata": {
        "colab": {
          "base_uri": "https://localhost:8080/",
          "height": 661
        },
        "id": "VJnoj0YP6T1V",
        "outputId": "cc6f4fc2-c2d5-460e-f660-dbc439ee7139"
      },
      "outputs": [],
      "source": [
        "correct, total, data = my_predict(trainer, check_dataset)"
      ]
    },
    {
      "cell_type": "code",
      "execution_count": null,
      "metadata": {
        "colab": {
          "base_uri": "https://localhost:8080/"
        },
        "id": "RV_Q7Gf15B8p",
        "outputId": "75135b79-ea3e-4ba7-d7f6-ddaa5bd97f24"
      },
      "outputs": [],
      "source": [
        "correct/total"
      ]
    },
    {
      "cell_type": "code",
      "execution_count": null,
      "metadata": {
        "id": "IbRL_NVv7UEE"
      },
      "outputs": [],
      "source": [
        "# легкие случаи\n",
        "fast_check = [{'TwoSents': 'Когда Маша играла с куклой, к ней подошел ее брат.',\n",
        "               'AnaphPos': [30, 33],\n",
        "               'Ant': [6, 10],\n",
        "               'IsAnt': 1,\n",
        "               'OrigPos': 0\n",
        "               },\n",
        "                {'TwoSents': 'Когда Маша играла с куклой, к ней подошел ее брат.',\n",
        "               'AnaphPos': [30, 33],\n",
        "               'Ant': [20, 26],\n",
        "               'IsAnt': 0,\n",
        "                'OrigPos': 0\n",
        "               },\n",
        "              {'TwoSents': 'Ребята не хотели делать домашние задания по школьным предметам, поэтому они пошли гулять.',\n",
        "               'AnaphPos': [72, 75],\n",
        "               'Ant': [0, 6],\n",
        "               'IsAnt': 1,\n",
        "               'OrigPos': 1\n",
        "               },\n",
        "              {'TwoSents': 'Ребята не хотели делать домашние задания по школьным предметам, поэтому они пошли гулять.',\n",
        "               'AnaphPos': [72, 75],\n",
        "               'Ant': [33, 40],\n",
        "               'IsAnt': 0,\n",
        "               'OrigPos': 1\n",
        "               },\n",
        "              {'TwoSents': 'Ребята не хотели делать домашние задания по школьным предметам, поэтому они пошли гулять.',\n",
        "               'AnaphPos': [72, 75],\n",
        "               'Ant': [53, 62],\n",
        "               'IsAnt': 0,\n",
        "               'OrigPos': 1\n",
        "               }\n",
        "              ]"
      ]
    },
    {
      "cell_type": "code",
      "execution_count": null,
      "metadata": {
        "colab": {
          "base_uri": "https://localhost:8080/",
          "height": 69
        },
        "id": "jH8Lp97P78wO",
        "outputId": "9534e61f-054f-40f4-ac63-301d2650e144"
      },
      "outputs": [],
      "source": [
        "correct, total, data = my_predict(trainer, fast_check)\n",
        "correct/total"
      ]
    },
    {
      "cell_type": "code",
      "execution_count": null,
      "metadata": {
        "id": "iXnCWBbY6lAW"
      },
      "outputs": [],
      "source": [
        "my_df = pd.DataFrame(data, columns=['Text', 'Prediction', 'Original data'])"
      ]
    },
    {
      "cell_type": "code",
      "execution_count": null,
      "metadata": {
        "id": "r7y8OMS3_LOX"
      },
      "outputs": [],
      "source": [
        "real_ants = []\n",
        "for line in my_df.itertuples():\n",
        "    true_idx = new_test_data[line[3]]['IndListAnt']\n",
        "    real = new_test_data[line[3]]['AllAnts'][true_idx]\n",
        "    real_ants.append(line[1][real[0]:real[1]])"
      ]
    },
    {
      "cell_type": "code",
      "execution_count": null,
      "metadata": {
        "colab": {
          "base_uri": "https://localhost:8080/",
          "height": 833
        },
        "id": "guLfjkfF6tIo",
        "outputId": "688a5db8-4026-4fb5-a614-b776fe5cfaee"
      },
      "outputs": [],
      "source": [
        "my_df['Real Ant'] = real_ants\n",
        "my_df = my_df.drop(columns='Original data')\n",
        "my_df['Correct'] = my_df['Prediction'] == my_df['Real Ant']\n",
        "my_df"
      ]
    },
    {
      "cell_type": "markdown",
      "metadata": {
        "id": "tZq01C29j_AY"
      },
      "source": [
        "## Берт"
      ]
    },
    {
      "cell_type": "code",
      "execution_count": null,
      "metadata": {
        "colab": {
          "base_uri": "https://localhost:8080/"
        },
        "id": "wSkgpCuikLWu",
        "outputId": "a4abac2c-4449-4968-f70f-c08e9adebb7f"
      },
      "outputs": [],
      "source": [
        "!pip install transformers==4.28.1"
      ]
    },
    {
      "cell_type": "code",
      "execution_count": null,
      "metadata": {
        "colab": {
          "base_uri": "https://localhost:8080/"
        },
        "id": "xWXAzVRNJP4m",
        "outputId": "83ab5107-3163-4d57-acf1-3f5c668ef873"
      },
      "outputs": [],
      "source": [
        "!pip install accelerate -U"
      ]
    },
    {
      "cell_type": "code",
      "execution_count": null,
      "metadata": {
        "id": "LVUdXvioJS-C"
      },
      "outputs": [],
      "source": [
        "import torch\n",
        "import numpy as np\n",
        "import torch.nn as nn\n",
        "from transformers import AutoTokenizer\n",
        "from transformers import AutoTokenizer, BertModel, BertPreTrainedModel\n",
        "from transformers.modeling_outputs import SequenceClassifierOutput\n",
        "from transformers import DataCollatorWithPadding, TrainingArguments, Trainer\n",
        "from transformers.optimization import AdamW\n",
        "from sklearn.metrics import accuracy_score, precision_recall_fscore_support"
      ]
    },
    {
      "cell_type": "code",
      "execution_count": null,
      "metadata": {
        "id": "G2lPr7Q3JaUl"
      },
      "outputs": [],
      "source": [
        "class BertaClassificationHead(nn.Module):\n",
        "\n",
        "    def __init__(self, config):\n",
        "        super().__init__()\n",
        "        self.dense = nn.Linear(4*config.hidden_size, config.hidden_size)\n",
        "        classifier_dropout = (\n",
        "            config.classifier_dropout if config.classifier_dropout is not None else config.hidden_dropout_prob\n",
        "        )\n",
        "        self.dropout = nn.Dropout(classifier_dropout)\n",
        "        self.out_proj = nn.Linear(config.hidden_size, 2)\n",
        "\n",
        "    def forward(self, first, second):\n",
        "        vectors = torch.cat([first, second, first*second, torch.abs(first-second)], dim=-1)\n",
        "        vectors = self.dense(vectors)\n",
        "        vectors = torch.tanh(vectors)\n",
        "        vectors = self.dropout(vectors)\n",
        "        vectors = self.out_proj(vectors)\n",
        "        return vectors"
      ]
    },
    {
      "cell_type": "code",
      "execution_count": null,
      "metadata": {
        "id": "HDoJeMBMj-K2"
      },
      "outputs": [],
      "source": [
        "class BertForAnaphoraClassification(BertPreTrainedModel):\n",
        "\n",
        "    def __init__(self, config):\n",
        "        super().__init__(config)\n",
        "        self.num_labels = 2\n",
        "        self.config = config\n",
        "        self.bert = BertModel(config, add_pooling_layer=False)\n",
        "        self.classifier = BertaClassificationHead(config)\n",
        "        self.post_init()\n",
        "\n",
        "    def forward(self, input_ids, source_starts, source_ends, target_starts, target_ends, labels=None, return_dict=False, **kwargs):\n",
        "        encoder_output = self.bert(input_ids)['last_hidden_state']\n",
        "        source_encoder_output = torch.stack([torch.mean(elem[start:end], dim=0) for elem, start, end in zip(encoder_output, source_starts, source_ends)])\n",
        "        target_encoder_output = torch.stack([torch.mean(elem[start:end], dim=0) for elem, start, end in zip(encoder_output, target_starts, target_ends)])\n",
        "        logits = self.classifier(source_encoder_output, target_encoder_output)\n",
        "        loss = None\n",
        "        if labels is not None:\n",
        "            labels = labels.to(logits.device)\n",
        "            loss_func = nn.CrossEntropyLoss()\n",
        "            loss = loss_func(logits.view(-1, self.num_labels), labels.view(-1))\n",
        "        if not return_dict:\n",
        "            return (logits,) if loss is None else (loss, logits)\n",
        "\n",
        "        return SequenceClassifierOutput(loss=loss, logits=logits)\n"
      ]
    },
    {
      "cell_type": "code",
      "execution_count": null,
      "metadata": {
        "colab": {
          "base_uri": "https://localhost:8080/",
          "height": 358,
          "referenced_widgets": [
            "a8837ea418e743c8b9997280d9643f01",
            "5fafa772b3cf4087bb2425d3cf77aa2c",
            "5ffd70a29c694212b61872d6bac016a0",
            "0a770e5c94e549629adf14275566a2c8",
            "68b16be163754e7195b7c3bd2f7fa117",
            "4889f270d4a241e39bf9a09677db3504",
            "6c2069f8272944f1947dd97b822c765e",
            "334700cd0e8e4e3fbb23a208d0fe4313",
            "4fbb8418a513440791490342b9ccce8a",
            "efbe7f0af5a043e6bcb4b7eafb4d9bfb",
            "c737addea21e424192894e04e3e1924b",
            "7409740fc2994b6083bbd201c63f19d7",
            "dddc749e1c784741aece28d46f596e47",
            "82e2961b6fa04fa496ee257d54124671",
            "9d5d9c6c8ff940edaffe9eab091f6c67",
            "981892a05fb1490d956a26a6d1b69962",
            "044a639c6af64782bc10841c15e88b1e",
            "5c303637d8224abbbe393c234afc6494",
            "5d7a424dea894ef2ac6b3b4109009ebb",
            "0be2e8c5ad3a49d9a4f4beed781d9615",
            "6718d92e346a4319ae526e7a1cef3048",
            "89ba99c5d2ab4cef83f4a1b1f71430df",
            "e60366b27a594d75b399d4c6a74b64a4",
            "6cddc24bc2b94ff7a647db3fe37f4e8d",
            "d52e50d6a1564af1b198b30f97312a1d",
            "77a8bf30052e44d784d3c5f1ca2480cd",
            "7400477fe210472c983056353e55e7a1",
            "5a59c51ccc9c4fe9b32129704ea61e18",
            "31d39a95cb5b49f3b31635b22316061b",
            "d2ef24b5b3c64ad8877b61f07126469e",
            "05c3373e97f0420bb18428f4153ccc5f",
            "7b9bdecbadd14b64bb3113948e28e5bf",
            "a3badf46a4144f39ad6dbd1f845537f8"
          ]
        },
        "id": "TJUOgpHvJlTO",
        "outputId": "66b00c95-80b4-4b9f-aa5b-892672de0b3a"
      },
      "outputs": [],
      "source": [
        "tokenizer = AutoTokenizer.from_pretrained(\"ai-forever/ruBert-base\")\n",
        "bert_model = BertForAnaphoraClassification.from_pretrained(\"ai-forever/ruBert-base\", num_labels=2)"
      ]
    },
    {
      "cell_type": "code",
      "execution_count": null,
      "metadata": {
        "id": "Fj1AmmR2Jszk"
      },
      "outputs": [],
      "source": [
        "training_args = TrainingArguments(output_dir=\"trainer_logs\",\n",
        "                                  evaluation_strategy=\"epoch\", save_strategy='epoch', num_train_epochs=1,\n",
        "                                  load_best_model_at_end=True, disable_tqdm=False,\n",
        "                                  per_device_train_batch_size=8, warmup_ratio=0.1,\n",
        "                                  gradient_accumulation_steps=8,\n",
        "                                  metric_for_best_model=\"Accuracy\")"
      ]
    },
    {
      "cell_type": "code",
      "execution_count": null,
      "metadata": {
        "id": "1vtreLlFJ0BP"
      },
      "outputs": [],
      "source": [
        "train_dataset = ARDataset(train, tokenizer)\n",
        "dev_dataset = ARDataset(dev, tokenizer)\n",
        "test_dataset = ARDataset(test, tokenizer)"
      ]
    },
    {
      "cell_type": "code",
      "execution_count": null,
      "metadata": {
        "colab": {
          "base_uri": "https://localhost:8080/"
        },
        "id": "2Il1s5SwKu90",
        "outputId": "90bc1a83-3406-4969-f220-289bc7a90509"
      },
      "outputs": [],
      "source": [
        "optimizer = AdamW(bert_model.parameters(), lr=1e-5, weight_decay=0.01)"
      ]
    },
    {
      "cell_type": "code",
      "execution_count": null,
      "metadata": {
        "colab": {
          "base_uri": "https://localhost:8080/",
          "height": 141
        },
        "id": "V1o51IYnJxxB",
        "outputId": "f1e10552-2bf8-4f99-e059-6244a1f5d896"
      },
      "outputs": [],
      "source": [
        "trainer = Trainer(\n",
        "    model=bert_model,\n",
        "    optimizers=(optimizer,None),\n",
        "    args=training_args,\n",
        "    data_collator=DataCollatorWithPadding(tokenizer=tokenizer),\n",
        "    train_dataset=train_dataset,\n",
        "    eval_dataset=dev_dataset,\n",
        "    compute_metrics=compute_metrics)\n",
        "trainer.train()"
      ]
    },
    {
      "cell_type": "code",
      "execution_count": null,
      "metadata": {
        "id": "m5l7c8UbayyQ"
      },
      "outputs": [],
      "source": [
        "training_args = TrainingArguments(output_dir=\"trainer_logs\",\n",
        "                                  evaluation_strategy=\"epoch\", save_strategy='epoch', num_train_epochs=2,\n",
        "                                  load_best_model_at_end=True, disable_tqdm=False,\n",
        "                                  per_device_train_batch_size=8, warmup_ratio=0.1,\n",
        "                                  gradient_accumulation_steps=8,\n",
        "                                  metric_for_best_model=\"Accuracy\")"
      ]
    },
    {
      "cell_type": "code",
      "execution_count": null,
      "metadata": {
        "colab": {
          "base_uri": "https://localhost:8080/",
          "height": 141
        },
        "id": "zsb2HT87axjT",
        "outputId": "9831bf07-f747-4ae9-9f68-4918dc8567e7"
      },
      "outputs": [],
      "source": [
        "trainer = Trainer(\n",
        "    model=bert_model,\n",
        "    optimizers=(optimizer,None),\n",
        "    args=training_args,\n",
        "    data_collator=DataCollatorWithPadding(tokenizer=tokenizer),\n",
        "    train_dataset=train_dataset,\n",
        "    eval_dataset=dev_dataset,\n",
        "    compute_metrics=compute_metrics)\n",
        "trainer.train(resume_from_checkpoint=True)"
      ]
    },
    {
      "cell_type": "code",
      "execution_count": null,
      "metadata": {
        "colab": {
          "base_uri": "https://localhost:8080/",
          "height": 138
        },
        "id": "4JiUwf55w6NM",
        "outputId": "a521212f-64b0-4678-bb12-ca0ad7aba7e3"
      },
      "outputs": [],
      "source": [
        "correct, total = predict_with_trainer(trainer, test)\n",
        "print(correct, total)"
      ]
    },
    {
      "cell_type": "code",
      "execution_count": null,
      "metadata": {
        "colab": {
          "base_uri": "https://localhost:8080/"
        },
        "id": "VOAjFfi3x-qW",
        "outputId": "4279faf2-d428-48e1-f3d4-b02c06659c2b"
      },
      "outputs": [],
      "source": [
        "print(correct/total)"
      ]
    }
  ],
  "metadata": {
    "accelerator": "GPU",
    "colab": {
      "gpuType": "T4",
      "provenance": []
    },
    "kernelspec": {
      "display_name": "Python 3",
      "name": "python3"
    },
    "language_info": {
      "name": "python"
    },
    "widgets": {
      "application/vnd.jupyter.widget-state+json": {
        "003373c67aa741f28062766d1c084e66": {
          "model_module": "@jupyter-widgets/base",
          "model_module_version": "1.2.0",
          "model_name": "LayoutModel",
          "state": {
            "_model_module": "@jupyter-widgets/base",
            "_model_module_version": "1.2.0",
            "_model_name": "LayoutModel",
            "_view_count": null,
            "_view_module": "@jupyter-widgets/base",
            "_view_module_version": "1.2.0",
            "_view_name": "LayoutView",
            "align_content": null,
            "align_items": null,
            "align_self": null,
            "border": null,
            "bottom": null,
            "display": null,
            "flex": null,
            "flex_flow": null,
            "grid_area": null,
            "grid_auto_columns": null,
            "grid_auto_flow": null,
            "grid_auto_rows": null,
            "grid_column": null,
            "grid_gap": null,
            "grid_row": null,
            "grid_template_areas": null,
            "grid_template_columns": null,
            "grid_template_rows": null,
            "height": null,
            "justify_content": null,
            "justify_items": null,
            "left": null,
            "margin": null,
            "max_height": null,
            "max_width": null,
            "min_height": null,
            "min_width": null,
            "object_fit": null,
            "object_position": null,
            "order": null,
            "overflow": null,
            "overflow_x": null,
            "overflow_y": null,
            "padding": null,
            "right": null,
            "top": null,
            "visibility": null,
            "width": null
          }
        },
        "014c0836812e49f3aa2dc82c07e50321": {
          "model_module": "@jupyter-widgets/controls",
          "model_module_version": "1.5.0",
          "model_name": "HBoxModel",
          "state": {
            "_dom_classes": [],
            "_model_module": "@jupyter-widgets/controls",
            "_model_module_version": "1.5.0",
            "_model_name": "HBoxModel",
            "_view_count": null,
            "_view_module": "@jupyter-widgets/controls",
            "_view_module_version": "1.5.0",
            "_view_name": "HBoxView",
            "box_style": "",
            "children": [
              "IPY_MODEL_9b464895d399416381c49608e1b03da8",
              "IPY_MODEL_b4cc84d822c44d71b47f2e7d1588ed73",
              "IPY_MODEL_1e6badd8023f43fe968d3f6ad7592607"
            ],
            "layout": "IPY_MODEL_c562e8eb5afe4d21a566ab9728fbd2bc"
          }
        },
        "044a639c6af64782bc10841c15e88b1e": {
          "model_module": "@jupyter-widgets/base",
          "model_module_version": "1.2.0",
          "model_name": "LayoutModel",
          "state": {
            "_model_module": "@jupyter-widgets/base",
            "_model_module_version": "1.2.0",
            "_model_name": "LayoutModel",
            "_view_count": null,
            "_view_module": "@jupyter-widgets/base",
            "_view_module_version": "1.2.0",
            "_view_name": "LayoutView",
            "align_content": null,
            "align_items": null,
            "align_self": null,
            "border": null,
            "bottom": null,
            "display": null,
            "flex": null,
            "flex_flow": null,
            "grid_area": null,
            "grid_auto_columns": null,
            "grid_auto_flow": null,
            "grid_auto_rows": null,
            "grid_column": null,
            "grid_gap": null,
            "grid_row": null,
            "grid_template_areas": null,
            "grid_template_columns": null,
            "grid_template_rows": null,
            "height": null,
            "justify_content": null,
            "justify_items": null,
            "left": null,
            "margin": null,
            "max_height": null,
            "max_width": null,
            "min_height": null,
            "min_width": null,
            "object_fit": null,
            "object_position": null,
            "order": null,
            "overflow": null,
            "overflow_x": null,
            "overflow_y": null,
            "padding": null,
            "right": null,
            "top": null,
            "visibility": null,
            "width": null
          }
        },
        "05c3373e97f0420bb18428f4153ccc5f": {
          "model_module": "@jupyter-widgets/controls",
          "model_module_version": "1.5.0",
          "model_name": "ProgressStyleModel",
          "state": {
            "_model_module": "@jupyter-widgets/controls",
            "_model_module_version": "1.5.0",
            "_model_name": "ProgressStyleModel",
            "_view_count": null,
            "_view_module": "@jupyter-widgets/base",
            "_view_module_version": "1.2.0",
            "_view_name": "StyleView",
            "bar_color": null,
            "description_width": ""
          }
        },
        "07b208fc71c349a884e33bce0d4278a1": {
          "model_module": "@jupyter-widgets/base",
          "model_module_version": "1.2.0",
          "model_name": "LayoutModel",
          "state": {
            "_model_module": "@jupyter-widgets/base",
            "_model_module_version": "1.2.0",
            "_model_name": "LayoutModel",
            "_view_count": null,
            "_view_module": "@jupyter-widgets/base",
            "_view_module_version": "1.2.0",
            "_view_name": "LayoutView",
            "align_content": null,
            "align_items": null,
            "align_self": null,
            "border": null,
            "bottom": null,
            "display": null,
            "flex": null,
            "flex_flow": null,
            "grid_area": null,
            "grid_auto_columns": null,
            "grid_auto_flow": null,
            "grid_auto_rows": null,
            "grid_column": null,
            "grid_gap": null,
            "grid_row": null,
            "grid_template_areas": null,
            "grid_template_columns": null,
            "grid_template_rows": null,
            "height": null,
            "justify_content": null,
            "justify_items": null,
            "left": null,
            "margin": null,
            "max_height": null,
            "max_width": null,
            "min_height": null,
            "min_width": null,
            "object_fit": null,
            "object_position": null,
            "order": null,
            "overflow": null,
            "overflow_x": null,
            "overflow_y": null,
            "padding": null,
            "right": null,
            "top": null,
            "visibility": null,
            "width": null
          }
        },
        "0a770e5c94e549629adf14275566a2c8": {
          "model_module": "@jupyter-widgets/controls",
          "model_module_version": "1.5.0",
          "model_name": "HTMLModel",
          "state": {
            "_dom_classes": [],
            "_model_module": "@jupyter-widgets/controls",
            "_model_module_version": "1.5.0",
            "_model_name": "HTMLModel",
            "_view_count": null,
            "_view_module": "@jupyter-widgets/controls",
            "_view_module_version": "1.5.0",
            "_view_name": "HTMLView",
            "description": "",
            "description_tooltip": null,
            "layout": "IPY_MODEL_efbe7f0af5a043e6bcb4b7eafb4d9bfb",
            "placeholder": "​",
            "style": "IPY_MODEL_c737addea21e424192894e04e3e1924b",
            "value": " 590/590 [00:00&lt;00:00, 9.96kB/s]"
          }
        },
        "0be2e8c5ad3a49d9a4f4beed781d9615": {
          "model_module": "@jupyter-widgets/controls",
          "model_module_version": "1.5.0",
          "model_name": "ProgressStyleModel",
          "state": {
            "_model_module": "@jupyter-widgets/controls",
            "_model_module_version": "1.5.0",
            "_model_name": "ProgressStyleModel",
            "_view_count": null,
            "_view_module": "@jupyter-widgets/base",
            "_view_module_version": "1.2.0",
            "_view_name": "StyleView",
            "bar_color": null,
            "description_width": ""
          }
        },
        "147cbacf5c9b420ab509d99f850fb885": {
          "model_module": "@jupyter-widgets/controls",
          "model_module_version": "1.5.0",
          "model_name": "DescriptionStyleModel",
          "state": {
            "_model_module": "@jupyter-widgets/controls",
            "_model_module_version": "1.5.0",
            "_model_name": "DescriptionStyleModel",
            "_view_count": null,
            "_view_module": "@jupyter-widgets/base",
            "_view_module_version": "1.2.0",
            "_view_name": "StyleView",
            "description_width": ""
          }
        },
        "151d7932d3d84bf2869ef9be21dc25d6": {
          "model_module": "@jupyter-widgets/base",
          "model_module_version": "1.2.0",
          "model_name": "LayoutModel",
          "state": {
            "_model_module": "@jupyter-widgets/base",
            "_model_module_version": "1.2.0",
            "_model_name": "LayoutModel",
            "_view_count": null,
            "_view_module": "@jupyter-widgets/base",
            "_view_module_version": "1.2.0",
            "_view_name": "LayoutView",
            "align_content": null,
            "align_items": null,
            "align_self": null,
            "border": null,
            "bottom": null,
            "display": null,
            "flex": null,
            "flex_flow": null,
            "grid_area": null,
            "grid_auto_columns": null,
            "grid_auto_flow": null,
            "grid_auto_rows": null,
            "grid_column": null,
            "grid_gap": null,
            "grid_row": null,
            "grid_template_areas": null,
            "grid_template_columns": null,
            "grid_template_rows": null,
            "height": null,
            "justify_content": null,
            "justify_items": null,
            "left": null,
            "margin": null,
            "max_height": null,
            "max_width": null,
            "min_height": null,
            "min_width": null,
            "object_fit": null,
            "object_position": null,
            "order": null,
            "overflow": null,
            "overflow_x": null,
            "overflow_y": null,
            "padding": null,
            "right": null,
            "top": null,
            "visibility": null,
            "width": null
          }
        },
        "1e6badd8023f43fe968d3f6ad7592607": {
          "model_module": "@jupyter-widgets/controls",
          "model_module_version": "1.5.0",
          "model_name": "HTMLModel",
          "state": {
            "_dom_classes": [],
            "_model_module": "@jupyter-widgets/controls",
            "_model_module_version": "1.5.0",
            "_model_name": "HTMLModel",
            "_view_count": null,
            "_view_module": "@jupyter-widgets/controls",
            "_view_module_version": "1.5.0",
            "_view_name": "HTMLView",
            "description": "",
            "description_tooltip": null,
            "layout": "IPY_MODEL_33d36501677a419dae7a4143f2a93869",
            "placeholder": "​",
            "style": "IPY_MODEL_883b3e6e5eb14fbc80a404c798c97bc5",
            "value": " 1.37M/1.37M [00:00&lt;00:00, 4.18MB/s]"
          }
        },
        "22e0ffd2fceb45d2911814e52bb4482f": {
          "model_module": "@jupyter-widgets/controls",
          "model_module_version": "1.5.0",
          "model_name": "HTMLModel",
          "state": {
            "_dom_classes": [],
            "_model_module": "@jupyter-widgets/controls",
            "_model_module_version": "1.5.0",
            "_model_name": "HTMLModel",
            "_view_count": null,
            "_view_module": "@jupyter-widgets/controls",
            "_view_module_version": "1.5.0",
            "_view_name": "HTMLView",
            "description": "",
            "description_tooltip": null,
            "layout": "IPY_MODEL_07b208fc71c349a884e33bce0d4278a1",
            "placeholder": "​",
            "style": "IPY_MODEL_a85111a5cd4f4c3d8d110e67607a33a2",
            "value": "config.json: 100%"
          }
        },
        "2a65179eaf8a467db1c3700ce92f65a2": {
          "model_module": "@jupyter-widgets/controls",
          "model_module_version": "1.5.0",
          "model_name": "HBoxModel",
          "state": {
            "_dom_classes": [],
            "_model_module": "@jupyter-widgets/controls",
            "_model_module_version": "1.5.0",
            "_model_name": "HBoxModel",
            "_view_count": null,
            "_view_module": "@jupyter-widgets/controls",
            "_view_module_version": "1.5.0",
            "_view_name": "HBoxView",
            "box_style": "",
            "children": [
              "IPY_MODEL_22e0ffd2fceb45d2911814e52bb4482f",
              "IPY_MODEL_ab6837b2aeea4c24976e175468a4e76a",
              "IPY_MODEL_f10bcfb8522b460a91fc5ba5a758810b"
            ],
            "layout": "IPY_MODEL_46d7fda8a94b46fb92953f7677b0bf11"
          }
        },
        "2b02373d5715417a8ac51d522b47e268": {
          "model_module": "@jupyter-widgets/controls",
          "model_module_version": "1.5.0",
          "model_name": "DescriptionStyleModel",
          "state": {
            "_model_module": "@jupyter-widgets/controls",
            "_model_module_version": "1.5.0",
            "_model_name": "DescriptionStyleModel",
            "_view_count": null,
            "_view_module": "@jupyter-widgets/base",
            "_view_module_version": "1.2.0",
            "_view_name": "StyleView",
            "description_width": ""
          }
        },
        "2e446789eab546be990dbe076b43bb6d": {
          "model_module": "@jupyter-widgets/controls",
          "model_module_version": "1.5.0",
          "model_name": "HBoxModel",
          "state": {
            "_dom_classes": [],
            "_model_module": "@jupyter-widgets/controls",
            "_model_module_version": "1.5.0",
            "_model_name": "HBoxModel",
            "_view_count": null,
            "_view_module": "@jupyter-widgets/controls",
            "_view_module_version": "1.5.0",
            "_view_name": "HBoxView",
            "box_style": "",
            "children": [
              "IPY_MODEL_8f0ef2c9c1214d3ba936d4127f952306",
              "IPY_MODEL_4894a7f906c94d338342fba5461dbb2e",
              "IPY_MODEL_b415fed33ba344e1ace8d6567026b351"
            ],
            "layout": "IPY_MODEL_6ec1c2ab83904c96a94290cea7c11087"
          }
        },
        "3001a826254047b2aaa46b9663409866": {
          "model_module": "@jupyter-widgets/base",
          "model_module_version": "1.2.0",
          "model_name": "LayoutModel",
          "state": {
            "_model_module": "@jupyter-widgets/base",
            "_model_module_version": "1.2.0",
            "_model_name": "LayoutModel",
            "_view_count": null,
            "_view_module": "@jupyter-widgets/base",
            "_view_module_version": "1.2.0",
            "_view_name": "LayoutView",
            "align_content": null,
            "align_items": null,
            "align_self": null,
            "border": null,
            "bottom": null,
            "display": null,
            "flex": null,
            "flex_flow": null,
            "grid_area": null,
            "grid_auto_columns": null,
            "grid_auto_flow": null,
            "grid_auto_rows": null,
            "grid_column": null,
            "grid_gap": null,
            "grid_row": null,
            "grid_template_areas": null,
            "grid_template_columns": null,
            "grid_template_rows": null,
            "height": null,
            "justify_content": null,
            "justify_items": null,
            "left": null,
            "margin": null,
            "max_height": null,
            "max_width": null,
            "min_height": null,
            "min_width": null,
            "object_fit": null,
            "object_position": null,
            "order": null,
            "overflow": null,
            "overflow_x": null,
            "overflow_y": null,
            "padding": null,
            "right": null,
            "top": null,
            "visibility": null,
            "width": null
          }
        },
        "31d39a95cb5b49f3b31635b22316061b": {
          "model_module": "@jupyter-widgets/controls",
          "model_module_version": "1.5.0",
          "model_name": "DescriptionStyleModel",
          "state": {
            "_model_module": "@jupyter-widgets/controls",
            "_model_module_version": "1.5.0",
            "_model_name": "DescriptionStyleModel",
            "_view_count": null,
            "_view_module": "@jupyter-widgets/base",
            "_view_module_version": "1.2.0",
            "_view_name": "StyleView",
            "description_width": ""
          }
        },
        "334700cd0e8e4e3fbb23a208d0fe4313": {
          "model_module": "@jupyter-widgets/base",
          "model_module_version": "1.2.0",
          "model_name": "LayoutModel",
          "state": {
            "_model_module": "@jupyter-widgets/base",
            "_model_module_version": "1.2.0",
            "_model_name": "LayoutModel",
            "_view_count": null,
            "_view_module": "@jupyter-widgets/base",
            "_view_module_version": "1.2.0",
            "_view_name": "LayoutView",
            "align_content": null,
            "align_items": null,
            "align_self": null,
            "border": null,
            "bottom": null,
            "display": null,
            "flex": null,
            "flex_flow": null,
            "grid_area": null,
            "grid_auto_columns": null,
            "grid_auto_flow": null,
            "grid_auto_rows": null,
            "grid_column": null,
            "grid_gap": null,
            "grid_row": null,
            "grid_template_areas": null,
            "grid_template_columns": null,
            "grid_template_rows": null,
            "height": null,
            "justify_content": null,
            "justify_items": null,
            "left": null,
            "margin": null,
            "max_height": null,
            "max_width": null,
            "min_height": null,
            "min_width": null,
            "object_fit": null,
            "object_position": null,
            "order": null,
            "overflow": null,
            "overflow_x": null,
            "overflow_y": null,
            "padding": null,
            "right": null,
            "top": null,
            "visibility": null,
            "width": null
          }
        },
        "33d36501677a419dae7a4143f2a93869": {
          "model_module": "@jupyter-widgets/base",
          "model_module_version": "1.2.0",
          "model_name": "LayoutModel",
          "state": {
            "_model_module": "@jupyter-widgets/base",
            "_model_module_version": "1.2.0",
            "_model_name": "LayoutModel",
            "_view_count": null,
            "_view_module": "@jupyter-widgets/base",
            "_view_module_version": "1.2.0",
            "_view_name": "LayoutView",
            "align_content": null,
            "align_items": null,
            "align_self": null,
            "border": null,
            "bottom": null,
            "display": null,
            "flex": null,
            "flex_flow": null,
            "grid_area": null,
            "grid_auto_columns": null,
            "grid_auto_flow": null,
            "grid_auto_rows": null,
            "grid_column": null,
            "grid_gap": null,
            "grid_row": null,
            "grid_template_areas": null,
            "grid_template_columns": null,
            "grid_template_rows": null,
            "height": null,
            "justify_content": null,
            "justify_items": null,
            "left": null,
            "margin": null,
            "max_height": null,
            "max_width": null,
            "min_height": null,
            "min_width": null,
            "object_fit": null,
            "object_position": null,
            "order": null,
            "overflow": null,
            "overflow_x": null,
            "overflow_y": null,
            "padding": null,
            "right": null,
            "top": null,
            "visibility": null,
            "width": null
          }
        },
        "4158f2c6a1b144f88ca92033416260d2": {
          "model_module": "@jupyter-widgets/base",
          "model_module_version": "1.2.0",
          "model_name": "LayoutModel",
          "state": {
            "_model_module": "@jupyter-widgets/base",
            "_model_module_version": "1.2.0",
            "_model_name": "LayoutModel",
            "_view_count": null,
            "_view_module": "@jupyter-widgets/base",
            "_view_module_version": "1.2.0",
            "_view_name": "LayoutView",
            "align_content": null,
            "align_items": null,
            "align_self": null,
            "border": null,
            "bottom": null,
            "display": null,
            "flex": null,
            "flex_flow": null,
            "grid_area": null,
            "grid_auto_columns": null,
            "grid_auto_flow": null,
            "grid_auto_rows": null,
            "grid_column": null,
            "grid_gap": null,
            "grid_row": null,
            "grid_template_areas": null,
            "grid_template_columns": null,
            "grid_template_rows": null,
            "height": null,
            "justify_content": null,
            "justify_items": null,
            "left": null,
            "margin": null,
            "max_height": null,
            "max_width": null,
            "min_height": null,
            "min_width": null,
            "object_fit": null,
            "object_position": null,
            "order": null,
            "overflow": null,
            "overflow_x": null,
            "overflow_y": null,
            "padding": null,
            "right": null,
            "top": null,
            "visibility": null,
            "width": null
          }
        },
        "46a3d8e9b7c04f67b30e043192867270": {
          "model_module": "@jupyter-widgets/base",
          "model_module_version": "1.2.0",
          "model_name": "LayoutModel",
          "state": {
            "_model_module": "@jupyter-widgets/base",
            "_model_module_version": "1.2.0",
            "_model_name": "LayoutModel",
            "_view_count": null,
            "_view_module": "@jupyter-widgets/base",
            "_view_module_version": "1.2.0",
            "_view_name": "LayoutView",
            "align_content": null,
            "align_items": null,
            "align_self": null,
            "border": null,
            "bottom": null,
            "display": null,
            "flex": null,
            "flex_flow": null,
            "grid_area": null,
            "grid_auto_columns": null,
            "grid_auto_flow": null,
            "grid_auto_rows": null,
            "grid_column": null,
            "grid_gap": null,
            "grid_row": null,
            "grid_template_areas": null,
            "grid_template_columns": null,
            "grid_template_rows": null,
            "height": null,
            "justify_content": null,
            "justify_items": null,
            "left": null,
            "margin": null,
            "max_height": null,
            "max_width": null,
            "min_height": null,
            "min_width": null,
            "object_fit": null,
            "object_position": null,
            "order": null,
            "overflow": null,
            "overflow_x": null,
            "overflow_y": null,
            "padding": null,
            "right": null,
            "top": null,
            "visibility": null,
            "width": null
          }
        },
        "46d7fda8a94b46fb92953f7677b0bf11": {
          "model_module": "@jupyter-widgets/base",
          "model_module_version": "1.2.0",
          "model_name": "LayoutModel",
          "state": {
            "_model_module": "@jupyter-widgets/base",
            "_model_module_version": "1.2.0",
            "_model_name": "LayoutModel",
            "_view_count": null,
            "_view_module": "@jupyter-widgets/base",
            "_view_module_version": "1.2.0",
            "_view_name": "LayoutView",
            "align_content": null,
            "align_items": null,
            "align_self": null,
            "border": null,
            "bottom": null,
            "display": null,
            "flex": null,
            "flex_flow": null,
            "grid_area": null,
            "grid_auto_columns": null,
            "grid_auto_flow": null,
            "grid_auto_rows": null,
            "grid_column": null,
            "grid_gap": null,
            "grid_row": null,
            "grid_template_areas": null,
            "grid_template_columns": null,
            "grid_template_rows": null,
            "height": null,
            "justify_content": null,
            "justify_items": null,
            "left": null,
            "margin": null,
            "max_height": null,
            "max_width": null,
            "min_height": null,
            "min_width": null,
            "object_fit": null,
            "object_position": null,
            "order": null,
            "overflow": null,
            "overflow_x": null,
            "overflow_y": null,
            "padding": null,
            "right": null,
            "top": null,
            "visibility": null,
            "width": null
          }
        },
        "4889f270d4a241e39bf9a09677db3504": {
          "model_module": "@jupyter-widgets/base",
          "model_module_version": "1.2.0",
          "model_name": "LayoutModel",
          "state": {
            "_model_module": "@jupyter-widgets/base",
            "_model_module_version": "1.2.0",
            "_model_name": "LayoutModel",
            "_view_count": null,
            "_view_module": "@jupyter-widgets/base",
            "_view_module_version": "1.2.0",
            "_view_name": "LayoutView",
            "align_content": null,
            "align_items": null,
            "align_self": null,
            "border": null,
            "bottom": null,
            "display": null,
            "flex": null,
            "flex_flow": null,
            "grid_area": null,
            "grid_auto_columns": null,
            "grid_auto_flow": null,
            "grid_auto_rows": null,
            "grid_column": null,
            "grid_gap": null,
            "grid_row": null,
            "grid_template_areas": null,
            "grid_template_columns": null,
            "grid_template_rows": null,
            "height": null,
            "justify_content": null,
            "justify_items": null,
            "left": null,
            "margin": null,
            "max_height": null,
            "max_width": null,
            "min_height": null,
            "min_width": null,
            "object_fit": null,
            "object_position": null,
            "order": null,
            "overflow": null,
            "overflow_x": null,
            "overflow_y": null,
            "padding": null,
            "right": null,
            "top": null,
            "visibility": null,
            "width": null
          }
        },
        "4894a7f906c94d338342fba5461dbb2e": {
          "model_module": "@jupyter-widgets/controls",
          "model_module_version": "1.5.0",
          "model_name": "FloatProgressModel",
          "state": {
            "_dom_classes": [],
            "_model_module": "@jupyter-widgets/controls",
            "_model_module_version": "1.5.0",
            "_model_name": "FloatProgressModel",
            "_view_count": null,
            "_view_module": "@jupyter-widgets/controls",
            "_view_module_version": "1.5.0",
            "_view_name": "ProgressView",
            "bar_style": "success",
            "description": "",
            "description_tooltip": null,
            "layout": "IPY_MODEL_151d7932d3d84bf2869ef9be21dc25d6",
            "max": 1811625,
            "min": 0,
            "orientation": "horizontal",
            "style": "IPY_MODEL_884a9dd673c84288a536c4756d174b39",
            "value": 1811625
          }
        },
        "4fbb8418a513440791490342b9ccce8a": {
          "model_module": "@jupyter-widgets/controls",
          "model_module_version": "1.5.0",
          "model_name": "ProgressStyleModel",
          "state": {
            "_model_module": "@jupyter-widgets/controls",
            "_model_module_version": "1.5.0",
            "_model_name": "ProgressStyleModel",
            "_view_count": null,
            "_view_module": "@jupyter-widgets/base",
            "_view_module_version": "1.2.0",
            "_view_name": "StyleView",
            "bar_color": null,
            "description_width": ""
          }
        },
        "55baa893298e41769f1ace372900622b": {
          "model_module": "@jupyter-widgets/base",
          "model_module_version": "1.2.0",
          "model_name": "LayoutModel",
          "state": {
            "_model_module": "@jupyter-widgets/base",
            "_model_module_version": "1.2.0",
            "_model_name": "LayoutModel",
            "_view_count": null,
            "_view_module": "@jupyter-widgets/base",
            "_view_module_version": "1.2.0",
            "_view_name": "LayoutView",
            "align_content": null,
            "align_items": null,
            "align_self": null,
            "border": null,
            "bottom": null,
            "display": null,
            "flex": null,
            "flex_flow": null,
            "grid_area": null,
            "grid_auto_columns": null,
            "grid_auto_flow": null,
            "grid_auto_rows": null,
            "grid_column": null,
            "grid_gap": null,
            "grid_row": null,
            "grid_template_areas": null,
            "grid_template_columns": null,
            "grid_template_rows": null,
            "height": null,
            "justify_content": null,
            "justify_items": null,
            "left": null,
            "margin": null,
            "max_height": null,
            "max_width": null,
            "min_height": null,
            "min_width": null,
            "object_fit": null,
            "object_position": null,
            "order": null,
            "overflow": null,
            "overflow_x": null,
            "overflow_y": null,
            "padding": null,
            "right": null,
            "top": null,
            "visibility": null,
            "width": null
          }
        },
        "5a59c51ccc9c4fe9b32129704ea61e18": {
          "model_module": "@jupyter-widgets/base",
          "model_module_version": "1.2.0",
          "model_name": "LayoutModel",
          "state": {
            "_model_module": "@jupyter-widgets/base",
            "_model_module_version": "1.2.0",
            "_model_name": "LayoutModel",
            "_view_count": null,
            "_view_module": "@jupyter-widgets/base",
            "_view_module_version": "1.2.0",
            "_view_name": "LayoutView",
            "align_content": null,
            "align_items": null,
            "align_self": null,
            "border": null,
            "bottom": null,
            "display": null,
            "flex": null,
            "flex_flow": null,
            "grid_area": null,
            "grid_auto_columns": null,
            "grid_auto_flow": null,
            "grid_auto_rows": null,
            "grid_column": null,
            "grid_gap": null,
            "grid_row": null,
            "grid_template_areas": null,
            "grid_template_columns": null,
            "grid_template_rows": null,
            "height": null,
            "justify_content": null,
            "justify_items": null,
            "left": null,
            "margin": null,
            "max_height": null,
            "max_width": null,
            "min_height": null,
            "min_width": null,
            "object_fit": null,
            "object_position": null,
            "order": null,
            "overflow": null,
            "overflow_x": null,
            "overflow_y": null,
            "padding": null,
            "right": null,
            "top": null,
            "visibility": null,
            "width": null
          }
        },
        "5c303637d8224abbbe393c234afc6494": {
          "model_module": "@jupyter-widgets/controls",
          "model_module_version": "1.5.0",
          "model_name": "DescriptionStyleModel",
          "state": {
            "_model_module": "@jupyter-widgets/controls",
            "_model_module_version": "1.5.0",
            "_model_name": "DescriptionStyleModel",
            "_view_count": null,
            "_view_module": "@jupyter-widgets/base",
            "_view_module_version": "1.2.0",
            "_view_name": "StyleView",
            "description_width": ""
          }
        },
        "5d7a424dea894ef2ac6b3b4109009ebb": {
          "model_module": "@jupyter-widgets/base",
          "model_module_version": "1.2.0",
          "model_name": "LayoutModel",
          "state": {
            "_model_module": "@jupyter-widgets/base",
            "_model_module_version": "1.2.0",
            "_model_name": "LayoutModel",
            "_view_count": null,
            "_view_module": "@jupyter-widgets/base",
            "_view_module_version": "1.2.0",
            "_view_name": "LayoutView",
            "align_content": null,
            "align_items": null,
            "align_self": null,
            "border": null,
            "bottom": null,
            "display": null,
            "flex": null,
            "flex_flow": null,
            "grid_area": null,
            "grid_auto_columns": null,
            "grid_auto_flow": null,
            "grid_auto_rows": null,
            "grid_column": null,
            "grid_gap": null,
            "grid_row": null,
            "grid_template_areas": null,
            "grid_template_columns": null,
            "grid_template_rows": null,
            "height": null,
            "justify_content": null,
            "justify_items": null,
            "left": null,
            "margin": null,
            "max_height": null,
            "max_width": null,
            "min_height": null,
            "min_width": null,
            "object_fit": null,
            "object_position": null,
            "order": null,
            "overflow": null,
            "overflow_x": null,
            "overflow_y": null,
            "padding": null,
            "right": null,
            "top": null,
            "visibility": null,
            "width": null
          }
        },
        "5ea56fb9b1584183a24257ee1564cb55": {
          "model_module": "@jupyter-widgets/controls",
          "model_module_version": "1.5.0",
          "model_name": "HTMLModel",
          "state": {
            "_dom_classes": [],
            "_model_module": "@jupyter-widgets/controls",
            "_model_module_version": "1.5.0",
            "_model_name": "HTMLModel",
            "_view_count": null,
            "_view_module": "@jupyter-widgets/controls",
            "_view_module_version": "1.5.0",
            "_view_name": "HTMLView",
            "description": "",
            "description_tooltip": null,
            "layout": "IPY_MODEL_3001a826254047b2aaa46b9663409866",
            "placeholder": "​",
            "style": "IPY_MODEL_72f95c5623a54f2f9a0a1923e4e0040f",
            "value": " 1.42G/1.42G [00:13&lt;00:00, 82.8MB/s]"
          }
        },
        "5fafa772b3cf4087bb2425d3cf77aa2c": {
          "model_module": "@jupyter-widgets/controls",
          "model_module_version": "1.5.0",
          "model_name": "HTMLModel",
          "state": {
            "_dom_classes": [],
            "_model_module": "@jupyter-widgets/controls",
            "_model_module_version": "1.5.0",
            "_model_name": "HTMLModel",
            "_view_count": null,
            "_view_module": "@jupyter-widgets/controls",
            "_view_module_version": "1.5.0",
            "_view_name": "HTMLView",
            "description": "",
            "description_tooltip": null,
            "layout": "IPY_MODEL_4889f270d4a241e39bf9a09677db3504",
            "placeholder": "​",
            "style": "IPY_MODEL_6c2069f8272944f1947dd97b822c765e",
            "value": "config.json: 100%"
          }
        },
        "5ffd70a29c694212b61872d6bac016a0": {
          "model_module": "@jupyter-widgets/controls",
          "model_module_version": "1.5.0",
          "model_name": "FloatProgressModel",
          "state": {
            "_dom_classes": [],
            "_model_module": "@jupyter-widgets/controls",
            "_model_module_version": "1.5.0",
            "_model_name": "FloatProgressModel",
            "_view_count": null,
            "_view_module": "@jupyter-widgets/controls",
            "_view_module_version": "1.5.0",
            "_view_name": "ProgressView",
            "bar_style": "success",
            "description": "",
            "description_tooltip": null,
            "layout": "IPY_MODEL_334700cd0e8e4e3fbb23a208d0fe4313",
            "max": 590,
            "min": 0,
            "orientation": "horizontal",
            "style": "IPY_MODEL_4fbb8418a513440791490342b9ccce8a",
            "value": 590
          }
        },
        "6718d92e346a4319ae526e7a1cef3048": {
          "model_module": "@jupyter-widgets/base",
          "model_module_version": "1.2.0",
          "model_name": "LayoutModel",
          "state": {
            "_model_module": "@jupyter-widgets/base",
            "_model_module_version": "1.2.0",
            "_model_name": "LayoutModel",
            "_view_count": null,
            "_view_module": "@jupyter-widgets/base",
            "_view_module_version": "1.2.0",
            "_view_name": "LayoutView",
            "align_content": null,
            "align_items": null,
            "align_self": null,
            "border": null,
            "bottom": null,
            "display": null,
            "flex": null,
            "flex_flow": null,
            "grid_area": null,
            "grid_auto_columns": null,
            "grid_auto_flow": null,
            "grid_auto_rows": null,
            "grid_column": null,
            "grid_gap": null,
            "grid_row": null,
            "grid_template_areas": null,
            "grid_template_columns": null,
            "grid_template_rows": null,
            "height": null,
            "justify_content": null,
            "justify_items": null,
            "left": null,
            "margin": null,
            "max_height": null,
            "max_width": null,
            "min_height": null,
            "min_width": null,
            "object_fit": null,
            "object_position": null,
            "order": null,
            "overflow": null,
            "overflow_x": null,
            "overflow_y": null,
            "padding": null,
            "right": null,
            "top": null,
            "visibility": null,
            "width": null
          }
        },
        "68b16be163754e7195b7c3bd2f7fa117": {
          "model_module": "@jupyter-widgets/base",
          "model_module_version": "1.2.0",
          "model_name": "LayoutModel",
          "state": {
            "_model_module": "@jupyter-widgets/base",
            "_model_module_version": "1.2.0",
            "_model_name": "LayoutModel",
            "_view_count": null,
            "_view_module": "@jupyter-widgets/base",
            "_view_module_version": "1.2.0",
            "_view_name": "LayoutView",
            "align_content": null,
            "align_items": null,
            "align_self": null,
            "border": null,
            "bottom": null,
            "display": null,
            "flex": null,
            "flex_flow": null,
            "grid_area": null,
            "grid_auto_columns": null,
            "grid_auto_flow": null,
            "grid_auto_rows": null,
            "grid_column": null,
            "grid_gap": null,
            "grid_row": null,
            "grid_template_areas": null,
            "grid_template_columns": null,
            "grid_template_rows": null,
            "height": null,
            "justify_content": null,
            "justify_items": null,
            "left": null,
            "margin": null,
            "max_height": null,
            "max_width": null,
            "min_height": null,
            "min_width": null,
            "object_fit": null,
            "object_position": null,
            "order": null,
            "overflow": null,
            "overflow_x": null,
            "overflow_y": null,
            "padding": null,
            "right": null,
            "top": null,
            "visibility": null,
            "width": null
          }
        },
        "6b2aa0e16a48420e9756c7d1d213ebf6": {
          "model_module": "@jupyter-widgets/controls",
          "model_module_version": "1.5.0",
          "model_name": "ProgressStyleModel",
          "state": {
            "_model_module": "@jupyter-widgets/controls",
            "_model_module_version": "1.5.0",
            "_model_name": "ProgressStyleModel",
            "_view_count": null,
            "_view_module": "@jupyter-widgets/base",
            "_view_module_version": "1.2.0",
            "_view_name": "StyleView",
            "bar_color": null,
            "description_width": ""
          }
        },
        "6c2069f8272944f1947dd97b822c765e": {
          "model_module": "@jupyter-widgets/controls",
          "model_module_version": "1.5.0",
          "model_name": "DescriptionStyleModel",
          "state": {
            "_model_module": "@jupyter-widgets/controls",
            "_model_module_version": "1.5.0",
            "_model_name": "DescriptionStyleModel",
            "_view_count": null,
            "_view_module": "@jupyter-widgets/base",
            "_view_module_version": "1.2.0",
            "_view_name": "StyleView",
            "description_width": ""
          }
        },
        "6cddc24bc2b94ff7a647db3fe37f4e8d": {
          "model_module": "@jupyter-widgets/controls",
          "model_module_version": "1.5.0",
          "model_name": "HTMLModel",
          "state": {
            "_dom_classes": [],
            "_model_module": "@jupyter-widgets/controls",
            "_model_module_version": "1.5.0",
            "_model_name": "HTMLModel",
            "_view_count": null,
            "_view_module": "@jupyter-widgets/controls",
            "_view_module_version": "1.5.0",
            "_view_name": "HTMLView",
            "description": "",
            "description_tooltip": null,
            "layout": "IPY_MODEL_5a59c51ccc9c4fe9b32129704ea61e18",
            "placeholder": "​",
            "style": "IPY_MODEL_31d39a95cb5b49f3b31635b22316061b",
            "value": "pytorch_model.bin: 100%"
          }
        },
        "6ec1c2ab83904c96a94290cea7c11087": {
          "model_module": "@jupyter-widgets/base",
          "model_module_version": "1.2.0",
          "model_name": "LayoutModel",
          "state": {
            "_model_module": "@jupyter-widgets/base",
            "_model_module_version": "1.2.0",
            "_model_name": "LayoutModel",
            "_view_count": null,
            "_view_module": "@jupyter-widgets/base",
            "_view_module_version": "1.2.0",
            "_view_name": "LayoutView",
            "align_content": null,
            "align_items": null,
            "align_self": null,
            "border": null,
            "bottom": null,
            "display": null,
            "flex": null,
            "flex_flow": null,
            "grid_area": null,
            "grid_auto_columns": null,
            "grid_auto_flow": null,
            "grid_auto_rows": null,
            "grid_column": null,
            "grid_gap": null,
            "grid_row": null,
            "grid_template_areas": null,
            "grid_template_columns": null,
            "grid_template_rows": null,
            "height": null,
            "justify_content": null,
            "justify_items": null,
            "left": null,
            "margin": null,
            "max_height": null,
            "max_width": null,
            "min_height": null,
            "min_width": null,
            "object_fit": null,
            "object_position": null,
            "order": null,
            "overflow": null,
            "overflow_x": null,
            "overflow_y": null,
            "padding": null,
            "right": null,
            "top": null,
            "visibility": null,
            "width": null
          }
        },
        "6efb32ab1ad442fa9fee132504885397": {
          "model_module": "@jupyter-widgets/controls",
          "model_module_version": "1.5.0",
          "model_name": "FloatProgressModel",
          "state": {
            "_dom_classes": [],
            "_model_module": "@jupyter-widgets/controls",
            "_model_module_version": "1.5.0",
            "_model_name": "FloatProgressModel",
            "_view_count": null,
            "_view_module": "@jupyter-widgets/controls",
            "_view_module_version": "1.5.0",
            "_view_name": "ProgressView",
            "bar_style": "success",
            "description": "",
            "description_tooltip": null,
            "layout": "IPY_MODEL_003373c67aa741f28062766d1c084e66",
            "max": 1421754926,
            "min": 0,
            "orientation": "horizontal",
            "style": "IPY_MODEL_d8ea48cafd404d0ca34059b6aec13ff4",
            "value": 1421754926
          }
        },
        "72f95c5623a54f2f9a0a1923e4e0040f": {
          "model_module": "@jupyter-widgets/controls",
          "model_module_version": "1.5.0",
          "model_name": "DescriptionStyleModel",
          "state": {
            "_model_module": "@jupyter-widgets/controls",
            "_model_module_version": "1.5.0",
            "_model_name": "DescriptionStyleModel",
            "_view_count": null,
            "_view_module": "@jupyter-widgets/base",
            "_view_module_version": "1.2.0",
            "_view_name": "StyleView",
            "description_width": ""
          }
        },
        "7400477fe210472c983056353e55e7a1": {
          "model_module": "@jupyter-widgets/base",
          "model_module_version": "1.2.0",
          "model_name": "LayoutModel",
          "state": {
            "_model_module": "@jupyter-widgets/base",
            "_model_module_version": "1.2.0",
            "_model_name": "LayoutModel",
            "_view_count": null,
            "_view_module": "@jupyter-widgets/base",
            "_view_module_version": "1.2.0",
            "_view_name": "LayoutView",
            "align_content": null,
            "align_items": null,
            "align_self": null,
            "border": null,
            "bottom": null,
            "display": null,
            "flex": null,
            "flex_flow": null,
            "grid_area": null,
            "grid_auto_columns": null,
            "grid_auto_flow": null,
            "grid_auto_rows": null,
            "grid_column": null,
            "grid_gap": null,
            "grid_row": null,
            "grid_template_areas": null,
            "grid_template_columns": null,
            "grid_template_rows": null,
            "height": null,
            "justify_content": null,
            "justify_items": null,
            "left": null,
            "margin": null,
            "max_height": null,
            "max_width": null,
            "min_height": null,
            "min_width": null,
            "object_fit": null,
            "object_position": null,
            "order": null,
            "overflow": null,
            "overflow_x": null,
            "overflow_y": null,
            "padding": null,
            "right": null,
            "top": null,
            "visibility": null,
            "width": null
          }
        },
        "7409740fc2994b6083bbd201c63f19d7": {
          "model_module": "@jupyter-widgets/controls",
          "model_module_version": "1.5.0",
          "model_name": "HBoxModel",
          "state": {
            "_dom_classes": [],
            "_model_module": "@jupyter-widgets/controls",
            "_model_module_version": "1.5.0",
            "_model_name": "HBoxModel",
            "_view_count": null,
            "_view_module": "@jupyter-widgets/controls",
            "_view_module_version": "1.5.0",
            "_view_name": "HBoxView",
            "box_style": "",
            "children": [
              "IPY_MODEL_dddc749e1c784741aece28d46f596e47",
              "IPY_MODEL_82e2961b6fa04fa496ee257d54124671",
              "IPY_MODEL_9d5d9c6c8ff940edaffe9eab091f6c67"
            ],
            "layout": "IPY_MODEL_981892a05fb1490d956a26a6d1b69962"
          }
        },
        "755f1d72f0524c59aded86d26a745dd4": {
          "model_module": "@jupyter-widgets/controls",
          "model_module_version": "1.5.0",
          "model_name": "DescriptionStyleModel",
          "state": {
            "_model_module": "@jupyter-widgets/controls",
            "_model_module_version": "1.5.0",
            "_model_name": "DescriptionStyleModel",
            "_view_count": null,
            "_view_module": "@jupyter-widgets/base",
            "_view_module_version": "1.2.0",
            "_view_name": "StyleView",
            "description_width": ""
          }
        },
        "77a8bf30052e44d784d3c5f1ca2480cd": {
          "model_module": "@jupyter-widgets/controls",
          "model_module_version": "1.5.0",
          "model_name": "HTMLModel",
          "state": {
            "_dom_classes": [],
            "_model_module": "@jupyter-widgets/controls",
            "_model_module_version": "1.5.0",
            "_model_name": "HTMLModel",
            "_view_count": null,
            "_view_module": "@jupyter-widgets/controls",
            "_view_module_version": "1.5.0",
            "_view_name": "HTMLView",
            "description": "",
            "description_tooltip": null,
            "layout": "IPY_MODEL_7b9bdecbadd14b64bb3113948e28e5bf",
            "placeholder": "​",
            "style": "IPY_MODEL_a3badf46a4144f39ad6dbd1f845537f8",
            "value": " 716M/716M [00:13&lt;00:00, 45.6MB/s]"
          }
        },
        "7b9bdecbadd14b64bb3113948e28e5bf": {
          "model_module": "@jupyter-widgets/base",
          "model_module_version": "1.2.0",
          "model_name": "LayoutModel",
          "state": {
            "_model_module": "@jupyter-widgets/base",
            "_model_module_version": "1.2.0",
            "_model_name": "LayoutModel",
            "_view_count": null,
            "_view_module": "@jupyter-widgets/base",
            "_view_module_version": "1.2.0",
            "_view_name": "LayoutView",
            "align_content": null,
            "align_items": null,
            "align_self": null,
            "border": null,
            "bottom": null,
            "display": null,
            "flex": null,
            "flex_flow": null,
            "grid_area": null,
            "grid_auto_columns": null,
            "grid_auto_flow": null,
            "grid_auto_rows": null,
            "grid_column": null,
            "grid_gap": null,
            "grid_row": null,
            "grid_template_areas": null,
            "grid_template_columns": null,
            "grid_template_rows": null,
            "height": null,
            "justify_content": null,
            "justify_items": null,
            "left": null,
            "margin": null,
            "max_height": null,
            "max_width": null,
            "min_height": null,
            "min_width": null,
            "object_fit": null,
            "object_position": null,
            "order": null,
            "overflow": null,
            "overflow_x": null,
            "overflow_y": null,
            "padding": null,
            "right": null,
            "top": null,
            "visibility": null,
            "width": null
          }
        },
        "82e2961b6fa04fa496ee257d54124671": {
          "model_module": "@jupyter-widgets/controls",
          "model_module_version": "1.5.0",
          "model_name": "FloatProgressModel",
          "state": {
            "_dom_classes": [],
            "_model_module": "@jupyter-widgets/controls",
            "_model_module_version": "1.5.0",
            "_model_name": "FloatProgressModel",
            "_view_count": null,
            "_view_module": "@jupyter-widgets/controls",
            "_view_module_version": "1.5.0",
            "_view_name": "ProgressView",
            "bar_style": "success",
            "description": "",
            "description_tooltip": null,
            "layout": "IPY_MODEL_5d7a424dea894ef2ac6b3b4109009ebb",
            "max": 1780720,
            "min": 0,
            "orientation": "horizontal",
            "style": "IPY_MODEL_0be2e8c5ad3a49d9a4f4beed781d9615",
            "value": 1780720
          }
        },
        "883b3e6e5eb14fbc80a404c798c97bc5": {
          "model_module": "@jupyter-widgets/controls",
          "model_module_version": "1.5.0",
          "model_name": "DescriptionStyleModel",
          "state": {
            "_model_module": "@jupyter-widgets/controls",
            "_model_module_version": "1.5.0",
            "_model_name": "DescriptionStyleModel",
            "_view_count": null,
            "_view_module": "@jupyter-widgets/base",
            "_view_module_version": "1.2.0",
            "_view_name": "StyleView",
            "description_width": ""
          }
        },
        "884a9dd673c84288a536c4756d174b39": {
          "model_module": "@jupyter-widgets/controls",
          "model_module_version": "1.5.0",
          "model_name": "ProgressStyleModel",
          "state": {
            "_model_module": "@jupyter-widgets/controls",
            "_model_module_version": "1.5.0",
            "_model_name": "ProgressStyleModel",
            "_view_count": null,
            "_view_module": "@jupyter-widgets/base",
            "_view_module_version": "1.2.0",
            "_view_name": "StyleView",
            "bar_color": null,
            "description_width": ""
          }
        },
        "89ba99c5d2ab4cef83f4a1b1f71430df": {
          "model_module": "@jupyter-widgets/controls",
          "model_module_version": "1.5.0",
          "model_name": "DescriptionStyleModel",
          "state": {
            "_model_module": "@jupyter-widgets/controls",
            "_model_module_version": "1.5.0",
            "_model_name": "DescriptionStyleModel",
            "_view_count": null,
            "_view_module": "@jupyter-widgets/base",
            "_view_module_version": "1.2.0",
            "_view_name": "StyleView",
            "description_width": ""
          }
        },
        "8f0ef2c9c1214d3ba936d4127f952306": {
          "model_module": "@jupyter-widgets/controls",
          "model_module_version": "1.5.0",
          "model_name": "HTMLModel",
          "state": {
            "_dom_classes": [],
            "_model_module": "@jupyter-widgets/controls",
            "_model_module_version": "1.5.0",
            "_model_name": "HTMLModel",
            "_view_count": null,
            "_view_module": "@jupyter-widgets/controls",
            "_view_module_version": "1.5.0",
            "_view_name": "HTMLView",
            "description": "",
            "description_tooltip": null,
            "layout": "IPY_MODEL_f146c9249ef84a2eada0f11b840b2b02",
            "placeholder": "​",
            "style": "IPY_MODEL_755f1d72f0524c59aded86d26a745dd4",
            "value": "vocab.json: 100%"
          }
        },
        "90ecb7c33186486c96c9eb60b2743f20": {
          "model_module": "@jupyter-widgets/base",
          "model_module_version": "1.2.0",
          "model_name": "LayoutModel",
          "state": {
            "_model_module": "@jupyter-widgets/base",
            "_model_module_version": "1.2.0",
            "_model_name": "LayoutModel",
            "_view_count": null,
            "_view_module": "@jupyter-widgets/base",
            "_view_module_version": "1.2.0",
            "_view_name": "LayoutView",
            "align_content": null,
            "align_items": null,
            "align_self": null,
            "border": null,
            "bottom": null,
            "display": null,
            "flex": null,
            "flex_flow": null,
            "grid_area": null,
            "grid_auto_columns": null,
            "grid_auto_flow": null,
            "grid_auto_rows": null,
            "grid_column": null,
            "grid_gap": null,
            "grid_row": null,
            "grid_template_areas": null,
            "grid_template_columns": null,
            "grid_template_rows": null,
            "height": null,
            "justify_content": null,
            "justify_items": null,
            "left": null,
            "margin": null,
            "max_height": null,
            "max_width": null,
            "min_height": null,
            "min_width": null,
            "object_fit": null,
            "object_position": null,
            "order": null,
            "overflow": null,
            "overflow_x": null,
            "overflow_y": null,
            "padding": null,
            "right": null,
            "top": null,
            "visibility": null,
            "width": null
          }
        },
        "981892a05fb1490d956a26a6d1b69962": {
          "model_module": "@jupyter-widgets/base",
          "model_module_version": "1.2.0",
          "model_name": "LayoutModel",
          "state": {
            "_model_module": "@jupyter-widgets/base",
            "_model_module_version": "1.2.0",
            "_model_name": "LayoutModel",
            "_view_count": null,
            "_view_module": "@jupyter-widgets/base",
            "_view_module_version": "1.2.0",
            "_view_name": "LayoutView",
            "align_content": null,
            "align_items": null,
            "align_self": null,
            "border": null,
            "bottom": null,
            "display": null,
            "flex": null,
            "flex_flow": null,
            "grid_area": null,
            "grid_auto_columns": null,
            "grid_auto_flow": null,
            "grid_auto_rows": null,
            "grid_column": null,
            "grid_gap": null,
            "grid_row": null,
            "grid_template_areas": null,
            "grid_template_columns": null,
            "grid_template_rows": null,
            "height": null,
            "justify_content": null,
            "justify_items": null,
            "left": null,
            "margin": null,
            "max_height": null,
            "max_width": null,
            "min_height": null,
            "min_width": null,
            "object_fit": null,
            "object_position": null,
            "order": null,
            "overflow": null,
            "overflow_x": null,
            "overflow_y": null,
            "padding": null,
            "right": null,
            "top": null,
            "visibility": null,
            "width": null
          }
        },
        "9b464895d399416381c49608e1b03da8": {
          "model_module": "@jupyter-widgets/controls",
          "model_module_version": "1.5.0",
          "model_name": "HTMLModel",
          "state": {
            "_dom_classes": [],
            "_model_module": "@jupyter-widgets/controls",
            "_model_module_version": "1.5.0",
            "_model_name": "HTMLModel",
            "_view_count": null,
            "_view_module": "@jupyter-widgets/controls",
            "_view_module_version": "1.5.0",
            "_view_name": "HTMLView",
            "description": "",
            "description_tooltip": null,
            "layout": "IPY_MODEL_90ecb7c33186486c96c9eb60b2743f20",
            "placeholder": "​",
            "style": "IPY_MODEL_2b02373d5715417a8ac51d522b47e268",
            "value": "merges.txt: 100%"
          }
        },
        "9ce9b23021e64cd2b6972cbc609080f6": {
          "model_module": "@jupyter-widgets/base",
          "model_module_version": "1.2.0",
          "model_name": "LayoutModel",
          "state": {
            "_model_module": "@jupyter-widgets/base",
            "_model_module_version": "1.2.0",
            "_model_name": "LayoutModel",
            "_view_count": null,
            "_view_module": "@jupyter-widgets/base",
            "_view_module_version": "1.2.0",
            "_view_name": "LayoutView",
            "align_content": null,
            "align_items": null,
            "align_self": null,
            "border": null,
            "bottom": null,
            "display": null,
            "flex": null,
            "flex_flow": null,
            "grid_area": null,
            "grid_auto_columns": null,
            "grid_auto_flow": null,
            "grid_auto_rows": null,
            "grid_column": null,
            "grid_gap": null,
            "grid_row": null,
            "grid_template_areas": null,
            "grid_template_columns": null,
            "grid_template_rows": null,
            "height": null,
            "justify_content": null,
            "justify_items": null,
            "left": null,
            "margin": null,
            "max_height": null,
            "max_width": null,
            "min_height": null,
            "min_width": null,
            "object_fit": null,
            "object_position": null,
            "order": null,
            "overflow": null,
            "overflow_x": null,
            "overflow_y": null,
            "padding": null,
            "right": null,
            "top": null,
            "visibility": null,
            "width": null
          }
        },
        "9d5d9c6c8ff940edaffe9eab091f6c67": {
          "model_module": "@jupyter-widgets/controls",
          "model_module_version": "1.5.0",
          "model_name": "HTMLModel",
          "state": {
            "_dom_classes": [],
            "_model_module": "@jupyter-widgets/controls",
            "_model_module_version": "1.5.0",
            "_model_name": "HTMLModel",
            "_view_count": null,
            "_view_module": "@jupyter-widgets/controls",
            "_view_module_version": "1.5.0",
            "_view_name": "HTMLView",
            "description": "",
            "description_tooltip": null,
            "layout": "IPY_MODEL_6718d92e346a4319ae526e7a1cef3048",
            "placeholder": "​",
            "style": "IPY_MODEL_89ba99c5d2ab4cef83f4a1b1f71430df",
            "value": " 1.78M/1.78M [00:00&lt;00:00, 7.18MB/s]"
          }
        },
        "a3badf46a4144f39ad6dbd1f845537f8": {
          "model_module": "@jupyter-widgets/controls",
          "model_module_version": "1.5.0",
          "model_name": "DescriptionStyleModel",
          "state": {
            "_model_module": "@jupyter-widgets/controls",
            "_model_module_version": "1.5.0",
            "_model_name": "DescriptionStyleModel",
            "_view_count": null,
            "_view_module": "@jupyter-widgets/base",
            "_view_module_version": "1.2.0",
            "_view_name": "StyleView",
            "description_width": ""
          }
        },
        "a46281b3aef54dfebb631706e1ca397c": {
          "model_module": "@jupyter-widgets/controls",
          "model_module_version": "1.5.0",
          "model_name": "DescriptionStyleModel",
          "state": {
            "_model_module": "@jupyter-widgets/controls",
            "_model_module_version": "1.5.0",
            "_model_name": "DescriptionStyleModel",
            "_view_count": null,
            "_view_module": "@jupyter-widgets/base",
            "_view_module_version": "1.2.0",
            "_view_name": "StyleView",
            "description_width": ""
          }
        },
        "a85111a5cd4f4c3d8d110e67607a33a2": {
          "model_module": "@jupyter-widgets/controls",
          "model_module_version": "1.5.0",
          "model_name": "DescriptionStyleModel",
          "state": {
            "_model_module": "@jupyter-widgets/controls",
            "_model_module_version": "1.5.0",
            "_model_name": "DescriptionStyleModel",
            "_view_count": null,
            "_view_module": "@jupyter-widgets/base",
            "_view_module_version": "1.2.0",
            "_view_name": "StyleView",
            "description_width": ""
          }
        },
        "a8837ea418e743c8b9997280d9643f01": {
          "model_module": "@jupyter-widgets/controls",
          "model_module_version": "1.5.0",
          "model_name": "HBoxModel",
          "state": {
            "_dom_classes": [],
            "_model_module": "@jupyter-widgets/controls",
            "_model_module_version": "1.5.0",
            "_model_name": "HBoxModel",
            "_view_count": null,
            "_view_module": "@jupyter-widgets/controls",
            "_view_module_version": "1.5.0",
            "_view_name": "HBoxView",
            "box_style": "",
            "children": [
              "IPY_MODEL_5fafa772b3cf4087bb2425d3cf77aa2c",
              "IPY_MODEL_5ffd70a29c694212b61872d6bac016a0",
              "IPY_MODEL_0a770e5c94e549629adf14275566a2c8"
            ],
            "layout": "IPY_MODEL_68b16be163754e7195b7c3bd2f7fa117"
          }
        },
        "ab6837b2aeea4c24976e175468a4e76a": {
          "model_module": "@jupyter-widgets/controls",
          "model_module_version": "1.5.0",
          "model_name": "FloatProgressModel",
          "state": {
            "_dom_classes": [],
            "_model_module": "@jupyter-widgets/controls",
            "_model_module_version": "1.5.0",
            "_model_name": "FloatProgressModel",
            "_view_count": null,
            "_view_module": "@jupyter-widgets/controls",
            "_view_module_version": "1.5.0",
            "_view_name": "ProgressView",
            "bar_style": "success",
            "description": "",
            "description_tooltip": null,
            "layout": "IPY_MODEL_55baa893298e41769f1ace372900622b",
            "max": 674,
            "min": 0,
            "orientation": "horizontal",
            "style": "IPY_MODEL_6b2aa0e16a48420e9756c7d1d213ebf6",
            "value": 674
          }
        },
        "abbada92b7204426b2bcda8a7c20f6bc": {
          "model_module": "@jupyter-widgets/controls",
          "model_module_version": "1.5.0",
          "model_name": "DescriptionStyleModel",
          "state": {
            "_model_module": "@jupyter-widgets/controls",
            "_model_module_version": "1.5.0",
            "_model_name": "DescriptionStyleModel",
            "_view_count": null,
            "_view_module": "@jupyter-widgets/base",
            "_view_module_version": "1.2.0",
            "_view_name": "StyleView",
            "description_width": ""
          }
        },
        "b415fed33ba344e1ace8d6567026b351": {
          "model_module": "@jupyter-widgets/controls",
          "model_module_version": "1.5.0",
          "model_name": "HTMLModel",
          "state": {
            "_dom_classes": [],
            "_model_module": "@jupyter-widgets/controls",
            "_model_module_version": "1.5.0",
            "_model_name": "HTMLModel",
            "_view_count": null,
            "_view_module": "@jupyter-widgets/controls",
            "_view_module_version": "1.5.0",
            "_view_name": "HTMLView",
            "description": "",
            "description_tooltip": null,
            "layout": "IPY_MODEL_46a3d8e9b7c04f67b30e043192867270",
            "placeholder": "​",
            "style": "IPY_MODEL_a46281b3aef54dfebb631706e1ca397c",
            "value": " 1.81M/1.81M [00:00&lt;00:00, 7.64MB/s]"
          }
        },
        "b4cc84d822c44d71b47f2e7d1588ed73": {
          "model_module": "@jupyter-widgets/controls",
          "model_module_version": "1.5.0",
          "model_name": "FloatProgressModel",
          "state": {
            "_dom_classes": [],
            "_model_module": "@jupyter-widgets/controls",
            "_model_module_version": "1.5.0",
            "_model_name": "FloatProgressModel",
            "_view_count": null,
            "_view_module": "@jupyter-widgets/controls",
            "_view_module_version": "1.5.0",
            "_view_name": "ProgressView",
            "bar_style": "success",
            "description": "",
            "description_tooltip": null,
            "layout": "IPY_MODEL_4158f2c6a1b144f88ca92033416260d2",
            "max": 1369443,
            "min": 0,
            "orientation": "horizontal",
            "style": "IPY_MODEL_b59bee1d488c431c8650c6d46e3a5a74",
            "value": 1369443
          }
        },
        "b59bee1d488c431c8650c6d46e3a5a74": {
          "model_module": "@jupyter-widgets/controls",
          "model_module_version": "1.5.0",
          "model_name": "ProgressStyleModel",
          "state": {
            "_model_module": "@jupyter-widgets/controls",
            "_model_module_version": "1.5.0",
            "_model_name": "ProgressStyleModel",
            "_view_count": null,
            "_view_module": "@jupyter-widgets/base",
            "_view_module_version": "1.2.0",
            "_view_name": "StyleView",
            "bar_color": null,
            "description_width": ""
          }
        },
        "c562e8eb5afe4d21a566ab9728fbd2bc": {
          "model_module": "@jupyter-widgets/base",
          "model_module_version": "1.2.0",
          "model_name": "LayoutModel",
          "state": {
            "_model_module": "@jupyter-widgets/base",
            "_model_module_version": "1.2.0",
            "_model_name": "LayoutModel",
            "_view_count": null,
            "_view_module": "@jupyter-widgets/base",
            "_view_module_version": "1.2.0",
            "_view_name": "LayoutView",
            "align_content": null,
            "align_items": null,
            "align_self": null,
            "border": null,
            "bottom": null,
            "display": null,
            "flex": null,
            "flex_flow": null,
            "grid_area": null,
            "grid_auto_columns": null,
            "grid_auto_flow": null,
            "grid_auto_rows": null,
            "grid_column": null,
            "grid_gap": null,
            "grid_row": null,
            "grid_template_areas": null,
            "grid_template_columns": null,
            "grid_template_rows": null,
            "height": null,
            "justify_content": null,
            "justify_items": null,
            "left": null,
            "margin": null,
            "max_height": null,
            "max_width": null,
            "min_height": null,
            "min_width": null,
            "object_fit": null,
            "object_position": null,
            "order": null,
            "overflow": null,
            "overflow_x": null,
            "overflow_y": null,
            "padding": null,
            "right": null,
            "top": null,
            "visibility": null,
            "width": null
          }
        },
        "c737addea21e424192894e04e3e1924b": {
          "model_module": "@jupyter-widgets/controls",
          "model_module_version": "1.5.0",
          "model_name": "DescriptionStyleModel",
          "state": {
            "_model_module": "@jupyter-widgets/controls",
            "_model_module_version": "1.5.0",
            "_model_name": "DescriptionStyleModel",
            "_view_count": null,
            "_view_module": "@jupyter-widgets/base",
            "_view_module_version": "1.2.0",
            "_view_name": "StyleView",
            "description_width": ""
          }
        },
        "d2ef24b5b3c64ad8877b61f07126469e": {
          "model_module": "@jupyter-widgets/base",
          "model_module_version": "1.2.0",
          "model_name": "LayoutModel",
          "state": {
            "_model_module": "@jupyter-widgets/base",
            "_model_module_version": "1.2.0",
            "_model_name": "LayoutModel",
            "_view_count": null,
            "_view_module": "@jupyter-widgets/base",
            "_view_module_version": "1.2.0",
            "_view_name": "LayoutView",
            "align_content": null,
            "align_items": null,
            "align_self": null,
            "border": null,
            "bottom": null,
            "display": null,
            "flex": null,
            "flex_flow": null,
            "grid_area": null,
            "grid_auto_columns": null,
            "grid_auto_flow": null,
            "grid_auto_rows": null,
            "grid_column": null,
            "grid_gap": null,
            "grid_row": null,
            "grid_template_areas": null,
            "grid_template_columns": null,
            "grid_template_rows": null,
            "height": null,
            "justify_content": null,
            "justify_items": null,
            "left": null,
            "margin": null,
            "max_height": null,
            "max_width": null,
            "min_height": null,
            "min_width": null,
            "object_fit": null,
            "object_position": null,
            "order": null,
            "overflow": null,
            "overflow_x": null,
            "overflow_y": null,
            "padding": null,
            "right": null,
            "top": null,
            "visibility": null,
            "width": null
          }
        },
        "d52e50d6a1564af1b198b30f97312a1d": {
          "model_module": "@jupyter-widgets/controls",
          "model_module_version": "1.5.0",
          "model_name": "FloatProgressModel",
          "state": {
            "_dom_classes": [],
            "_model_module": "@jupyter-widgets/controls",
            "_model_module_version": "1.5.0",
            "_model_name": "FloatProgressModel",
            "_view_count": null,
            "_view_module": "@jupyter-widgets/controls",
            "_view_module_version": "1.5.0",
            "_view_name": "ProgressView",
            "bar_style": "success",
            "description": "",
            "description_tooltip": null,
            "layout": "IPY_MODEL_d2ef24b5b3c64ad8877b61f07126469e",
            "max": 716133354,
            "min": 0,
            "orientation": "horizontal",
            "style": "IPY_MODEL_05c3373e97f0420bb18428f4153ccc5f",
            "value": 716133354
          }
        },
        "d8d65b93e0bb4163b32f6c1e4305a663": {
          "model_module": "@jupyter-widgets/base",
          "model_module_version": "1.2.0",
          "model_name": "LayoutModel",
          "state": {
            "_model_module": "@jupyter-widgets/base",
            "_model_module_version": "1.2.0",
            "_model_name": "LayoutModel",
            "_view_count": null,
            "_view_module": "@jupyter-widgets/base",
            "_view_module_version": "1.2.0",
            "_view_name": "LayoutView",
            "align_content": null,
            "align_items": null,
            "align_self": null,
            "border": null,
            "bottom": null,
            "display": null,
            "flex": null,
            "flex_flow": null,
            "grid_area": null,
            "grid_auto_columns": null,
            "grid_auto_flow": null,
            "grid_auto_rows": null,
            "grid_column": null,
            "grid_gap": null,
            "grid_row": null,
            "grid_template_areas": null,
            "grid_template_columns": null,
            "grid_template_rows": null,
            "height": null,
            "justify_content": null,
            "justify_items": null,
            "left": null,
            "margin": null,
            "max_height": null,
            "max_width": null,
            "min_height": null,
            "min_width": null,
            "object_fit": null,
            "object_position": null,
            "order": null,
            "overflow": null,
            "overflow_x": null,
            "overflow_y": null,
            "padding": null,
            "right": null,
            "top": null,
            "visibility": null,
            "width": null
          }
        },
        "d8ea48cafd404d0ca34059b6aec13ff4": {
          "model_module": "@jupyter-widgets/controls",
          "model_module_version": "1.5.0",
          "model_name": "ProgressStyleModel",
          "state": {
            "_model_module": "@jupyter-widgets/controls",
            "_model_module_version": "1.5.0",
            "_model_name": "ProgressStyleModel",
            "_view_count": null,
            "_view_module": "@jupyter-widgets/base",
            "_view_module_version": "1.2.0",
            "_view_name": "StyleView",
            "bar_color": null,
            "description_width": ""
          }
        },
        "dddc749e1c784741aece28d46f596e47": {
          "model_module": "@jupyter-widgets/controls",
          "model_module_version": "1.5.0",
          "model_name": "HTMLModel",
          "state": {
            "_dom_classes": [],
            "_model_module": "@jupyter-widgets/controls",
            "_model_module_version": "1.5.0",
            "_model_name": "HTMLModel",
            "_view_count": null,
            "_view_module": "@jupyter-widgets/controls",
            "_view_module_version": "1.5.0",
            "_view_name": "HTMLView",
            "description": "",
            "description_tooltip": null,
            "layout": "IPY_MODEL_044a639c6af64782bc10841c15e88b1e",
            "placeholder": "​",
            "style": "IPY_MODEL_5c303637d8224abbbe393c234afc6494",
            "value": "vocab.txt: 100%"
          }
        },
        "e1204fb5db7c410fb89adebe29070b8a": {
          "model_module": "@jupyter-widgets/controls",
          "model_module_version": "1.5.0",
          "model_name": "HBoxModel",
          "state": {
            "_dom_classes": [],
            "_model_module": "@jupyter-widgets/controls",
            "_model_module_version": "1.5.0",
            "_model_name": "HBoxModel",
            "_view_count": null,
            "_view_module": "@jupyter-widgets/controls",
            "_view_module_version": "1.5.0",
            "_view_name": "HBoxView",
            "box_style": "",
            "children": [
              "IPY_MODEL_fd538a99f0314147aafc75937507c9d3",
              "IPY_MODEL_6efb32ab1ad442fa9fee132504885397",
              "IPY_MODEL_5ea56fb9b1584183a24257ee1564cb55"
            ],
            "layout": "IPY_MODEL_ff99bf4a1bdd4c28aac803d8cb717fb8"
          }
        },
        "e60366b27a594d75b399d4c6a74b64a4": {
          "model_module": "@jupyter-widgets/controls",
          "model_module_version": "1.5.0",
          "model_name": "HBoxModel",
          "state": {
            "_dom_classes": [],
            "_model_module": "@jupyter-widgets/controls",
            "_model_module_version": "1.5.0",
            "_model_name": "HBoxModel",
            "_view_count": null,
            "_view_module": "@jupyter-widgets/controls",
            "_view_module_version": "1.5.0",
            "_view_name": "HBoxView",
            "box_style": "",
            "children": [
              "IPY_MODEL_6cddc24bc2b94ff7a647db3fe37f4e8d",
              "IPY_MODEL_d52e50d6a1564af1b198b30f97312a1d",
              "IPY_MODEL_77a8bf30052e44d784d3c5f1ca2480cd"
            ],
            "layout": "IPY_MODEL_7400477fe210472c983056353e55e7a1"
          }
        },
        "efbe7f0af5a043e6bcb4b7eafb4d9bfb": {
          "model_module": "@jupyter-widgets/base",
          "model_module_version": "1.2.0",
          "model_name": "LayoutModel",
          "state": {
            "_model_module": "@jupyter-widgets/base",
            "_model_module_version": "1.2.0",
            "_model_name": "LayoutModel",
            "_view_count": null,
            "_view_module": "@jupyter-widgets/base",
            "_view_module_version": "1.2.0",
            "_view_name": "LayoutView",
            "align_content": null,
            "align_items": null,
            "align_self": null,
            "border": null,
            "bottom": null,
            "display": null,
            "flex": null,
            "flex_flow": null,
            "grid_area": null,
            "grid_auto_columns": null,
            "grid_auto_flow": null,
            "grid_auto_rows": null,
            "grid_column": null,
            "grid_gap": null,
            "grid_row": null,
            "grid_template_areas": null,
            "grid_template_columns": null,
            "grid_template_rows": null,
            "height": null,
            "justify_content": null,
            "justify_items": null,
            "left": null,
            "margin": null,
            "max_height": null,
            "max_width": null,
            "min_height": null,
            "min_width": null,
            "object_fit": null,
            "object_position": null,
            "order": null,
            "overflow": null,
            "overflow_x": null,
            "overflow_y": null,
            "padding": null,
            "right": null,
            "top": null,
            "visibility": null,
            "width": null
          }
        },
        "f10bcfb8522b460a91fc5ba5a758810b": {
          "model_module": "@jupyter-widgets/controls",
          "model_module_version": "1.5.0",
          "model_name": "HTMLModel",
          "state": {
            "_dom_classes": [],
            "_model_module": "@jupyter-widgets/controls",
            "_model_module_version": "1.5.0",
            "_model_name": "HTMLModel",
            "_view_count": null,
            "_view_module": "@jupyter-widgets/controls",
            "_view_module_version": "1.5.0",
            "_view_name": "HTMLView",
            "description": "",
            "description_tooltip": null,
            "layout": "IPY_MODEL_9ce9b23021e64cd2b6972cbc609080f6",
            "placeholder": "​",
            "style": "IPY_MODEL_abbada92b7204426b2bcda8a7c20f6bc",
            "value": " 674/674 [00:00&lt;00:00, 20.2kB/s]"
          }
        },
        "f146c9249ef84a2eada0f11b840b2b02": {
          "model_module": "@jupyter-widgets/base",
          "model_module_version": "1.2.0",
          "model_name": "LayoutModel",
          "state": {
            "_model_module": "@jupyter-widgets/base",
            "_model_module_version": "1.2.0",
            "_model_name": "LayoutModel",
            "_view_count": null,
            "_view_module": "@jupyter-widgets/base",
            "_view_module_version": "1.2.0",
            "_view_name": "LayoutView",
            "align_content": null,
            "align_items": null,
            "align_self": null,
            "border": null,
            "bottom": null,
            "display": null,
            "flex": null,
            "flex_flow": null,
            "grid_area": null,
            "grid_auto_columns": null,
            "grid_auto_flow": null,
            "grid_auto_rows": null,
            "grid_column": null,
            "grid_gap": null,
            "grid_row": null,
            "grid_template_areas": null,
            "grid_template_columns": null,
            "grid_template_rows": null,
            "height": null,
            "justify_content": null,
            "justify_items": null,
            "left": null,
            "margin": null,
            "max_height": null,
            "max_width": null,
            "min_height": null,
            "min_width": null,
            "object_fit": null,
            "object_position": null,
            "order": null,
            "overflow": null,
            "overflow_x": null,
            "overflow_y": null,
            "padding": null,
            "right": null,
            "top": null,
            "visibility": null,
            "width": null
          }
        },
        "fd538a99f0314147aafc75937507c9d3": {
          "model_module": "@jupyter-widgets/controls",
          "model_module_version": "1.5.0",
          "model_name": "HTMLModel",
          "state": {
            "_dom_classes": [],
            "_model_module": "@jupyter-widgets/controls",
            "_model_module_version": "1.5.0",
            "_model_name": "HTMLModel",
            "_view_count": null,
            "_view_module": "@jupyter-widgets/controls",
            "_view_module_version": "1.5.0",
            "_view_name": "HTMLView",
            "description": "",
            "description_tooltip": null,
            "layout": "IPY_MODEL_d8d65b93e0bb4163b32f6c1e4305a663",
            "placeholder": "​",
            "style": "IPY_MODEL_147cbacf5c9b420ab509d99f850fb885",
            "value": "pytorch_model.bin: 100%"
          }
        },
        "ff99bf4a1bdd4c28aac803d8cb717fb8": {
          "model_module": "@jupyter-widgets/base",
          "model_module_version": "1.2.0",
          "model_name": "LayoutModel",
          "state": {
            "_model_module": "@jupyter-widgets/base",
            "_model_module_version": "1.2.0",
            "_model_name": "LayoutModel",
            "_view_count": null,
            "_view_module": "@jupyter-widgets/base",
            "_view_module_version": "1.2.0",
            "_view_name": "LayoutView",
            "align_content": null,
            "align_items": null,
            "align_self": null,
            "border": null,
            "bottom": null,
            "display": null,
            "flex": null,
            "flex_flow": null,
            "grid_area": null,
            "grid_auto_columns": null,
            "grid_auto_flow": null,
            "grid_auto_rows": null,
            "grid_column": null,
            "grid_gap": null,
            "grid_row": null,
            "grid_template_areas": null,
            "grid_template_columns": null,
            "grid_template_rows": null,
            "height": null,
            "justify_content": null,
            "justify_items": null,
            "left": null,
            "margin": null,
            "max_height": null,
            "max_width": null,
            "min_height": null,
            "min_width": null,
            "object_fit": null,
            "object_position": null,
            "order": null,
            "overflow": null,
            "overflow_x": null,
            "overflow_y": null,
            "padding": null,
            "right": null,
            "top": null,
            "visibility": null,
            "width": null
          }
        }
      }
    }
  },
  "nbformat": 4,
  "nbformat_minor": 0
}
